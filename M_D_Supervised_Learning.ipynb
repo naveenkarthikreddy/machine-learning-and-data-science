{
  "nbformat": 4,
  "nbformat_minor": 0,
  "metadata": {
    "colab": {
      "name": "M_D_Supervised_Learning.ipynb",
      "provenance": [],
      "authorship_tag": "ABX9TyNtvHtHE1gvVdVXizohBk/K",
      "include_colab_link": true
    },
    "kernelspec": {
      "name": "python3",
      "display_name": "Python 3"
    },
    "language_info": {
      "name": "python"
    }
  },
  "cells": [
    {
      "cell_type": "markdown",
      "metadata": {
        "id": "view-in-github",
        "colab_type": "text"
      },
      "source": [
        "<a href=\"https://colab.research.google.com/github/tireless-22/machine-learning-and-data-science/blob/main/M_D_Supervised_Learning.ipynb\" target=\"_parent\"><img src=\"https://colab.research.google.com/assets/colab-badge.svg\" alt=\"Open In Colab\"/></a>"
      ]
    },
    {
      "cell_type": "code",
      "metadata": {
        "id": "LfwWdlGf8bDv"
      },
      "source": [
        "from sklearn import datasets\n",
        "\n"
      ],
      "execution_count": 1,
      "outputs": []
    },
    {
      "cell_type": "code",
      "metadata": {
        "colab": {
          "base_uri": "https://localhost:8080/"
        },
        "id": "PHM2oigr87Br",
        "outputId": "a3403968-7b3f-4684-ae46-b672d36129a1"
      },
      "source": [
        "boston=datasets.load_boston()\n",
        "\n",
        "x=boston.data\n",
        "print(type(x))\n",
        "print(x.shape)\n"
      ],
      "execution_count": 16,
      "outputs": [
        {
          "output_type": "stream",
          "name": "stdout",
          "text": [
            "<class 'numpy.ndarray'>\n",
            "(506, 13)\n"
          ]
        }
      ]
    },
    {
      "cell_type": "code",
      "metadata": {
        "colab": {
          "base_uri": "https://localhost:8080/"
        },
        "id": "cybY8m7g9XAz",
        "outputId": "7efb77c2-7883-47bd-a17f-7179bee2b114"
      },
      "source": [
        "y=boston.target\n",
        "print(type(y))\n",
        "print(y.shape)"
      ],
      "execution_count": 17,
      "outputs": [
        {
          "output_type": "stream",
          "name": "stdout",
          "text": [
            "<class 'numpy.ndarray'>\n",
            "(506,)\n"
          ]
        }
      ]
    },
    {
      "cell_type": "code",
      "metadata": {
        "colab": {
          "base_uri": "https://localhost:8080/",
          "height": 300
        },
        "id": "n1mdhpC89kgr",
        "outputId": "89780b66-c34b-4dc2-b7b4-c61004084a02"
      },
      "source": [
        "import pandas as pd\n",
        "df=pd.DataFrame(x)\n",
        "# use to store as frames\n",
        "df_columns=boston.feature_names\n",
        "# use to get the first row or column names\n",
        "# print(df_columns)\n",
        "df.describe()\n",
        "# it gives description of the data\n",
        "# sklearn datasets are well cleaned already "
      ],
      "execution_count": 25,
      "outputs": [
        {
          "output_type": "execute_result",
          "data": {
            "text/html": [
              "<div>\n",
              "<style scoped>\n",
              "    .dataframe tbody tr th:only-of-type {\n",
              "        vertical-align: middle;\n",
              "    }\n",
              "\n",
              "    .dataframe tbody tr th {\n",
              "        vertical-align: top;\n",
              "    }\n",
              "\n",
              "    .dataframe thead th {\n",
              "        text-align: right;\n",
              "    }\n",
              "</style>\n",
              "<table border=\"1\" class=\"dataframe\">\n",
              "  <thead>\n",
              "    <tr style=\"text-align: right;\">\n",
              "      <th></th>\n",
              "      <th>0</th>\n",
              "      <th>1</th>\n",
              "      <th>2</th>\n",
              "      <th>3</th>\n",
              "      <th>4</th>\n",
              "      <th>5</th>\n",
              "      <th>6</th>\n",
              "      <th>7</th>\n",
              "      <th>8</th>\n",
              "      <th>9</th>\n",
              "      <th>10</th>\n",
              "      <th>11</th>\n",
              "      <th>12</th>\n",
              "    </tr>\n",
              "  </thead>\n",
              "  <tbody>\n",
              "    <tr>\n",
              "      <th>count</th>\n",
              "      <td>506.000000</td>\n",
              "      <td>506.000000</td>\n",
              "      <td>506.000000</td>\n",
              "      <td>506.000000</td>\n",
              "      <td>506.000000</td>\n",
              "      <td>506.000000</td>\n",
              "      <td>506.000000</td>\n",
              "      <td>506.000000</td>\n",
              "      <td>506.000000</td>\n",
              "      <td>506.000000</td>\n",
              "      <td>506.000000</td>\n",
              "      <td>506.000000</td>\n",
              "      <td>506.000000</td>\n",
              "    </tr>\n",
              "    <tr>\n",
              "      <th>mean</th>\n",
              "      <td>3.613524</td>\n",
              "      <td>11.363636</td>\n",
              "      <td>11.136779</td>\n",
              "      <td>0.069170</td>\n",
              "      <td>0.554695</td>\n",
              "      <td>6.284634</td>\n",
              "      <td>68.574901</td>\n",
              "      <td>3.795043</td>\n",
              "      <td>9.549407</td>\n",
              "      <td>408.237154</td>\n",
              "      <td>18.455534</td>\n",
              "      <td>356.674032</td>\n",
              "      <td>12.653063</td>\n",
              "    </tr>\n",
              "    <tr>\n",
              "      <th>std</th>\n",
              "      <td>8.601545</td>\n",
              "      <td>23.322453</td>\n",
              "      <td>6.860353</td>\n",
              "      <td>0.253994</td>\n",
              "      <td>0.115878</td>\n",
              "      <td>0.702617</td>\n",
              "      <td>28.148861</td>\n",
              "      <td>2.105710</td>\n",
              "      <td>8.707259</td>\n",
              "      <td>168.537116</td>\n",
              "      <td>2.164946</td>\n",
              "      <td>91.294864</td>\n",
              "      <td>7.141062</td>\n",
              "    </tr>\n",
              "    <tr>\n",
              "      <th>min</th>\n",
              "      <td>0.006320</td>\n",
              "      <td>0.000000</td>\n",
              "      <td>0.460000</td>\n",
              "      <td>0.000000</td>\n",
              "      <td>0.385000</td>\n",
              "      <td>3.561000</td>\n",
              "      <td>2.900000</td>\n",
              "      <td>1.129600</td>\n",
              "      <td>1.000000</td>\n",
              "      <td>187.000000</td>\n",
              "      <td>12.600000</td>\n",
              "      <td>0.320000</td>\n",
              "      <td>1.730000</td>\n",
              "    </tr>\n",
              "    <tr>\n",
              "      <th>25%</th>\n",
              "      <td>0.082045</td>\n",
              "      <td>0.000000</td>\n",
              "      <td>5.190000</td>\n",
              "      <td>0.000000</td>\n",
              "      <td>0.449000</td>\n",
              "      <td>5.885500</td>\n",
              "      <td>45.025000</td>\n",
              "      <td>2.100175</td>\n",
              "      <td>4.000000</td>\n",
              "      <td>279.000000</td>\n",
              "      <td>17.400000</td>\n",
              "      <td>375.377500</td>\n",
              "      <td>6.950000</td>\n",
              "    </tr>\n",
              "    <tr>\n",
              "      <th>50%</th>\n",
              "      <td>0.256510</td>\n",
              "      <td>0.000000</td>\n",
              "      <td>9.690000</td>\n",
              "      <td>0.000000</td>\n",
              "      <td>0.538000</td>\n",
              "      <td>6.208500</td>\n",
              "      <td>77.500000</td>\n",
              "      <td>3.207450</td>\n",
              "      <td>5.000000</td>\n",
              "      <td>330.000000</td>\n",
              "      <td>19.050000</td>\n",
              "      <td>391.440000</td>\n",
              "      <td>11.360000</td>\n",
              "    </tr>\n",
              "    <tr>\n",
              "      <th>75%</th>\n",
              "      <td>3.677083</td>\n",
              "      <td>12.500000</td>\n",
              "      <td>18.100000</td>\n",
              "      <td>0.000000</td>\n",
              "      <td>0.624000</td>\n",
              "      <td>6.623500</td>\n",
              "      <td>94.075000</td>\n",
              "      <td>5.188425</td>\n",
              "      <td>24.000000</td>\n",
              "      <td>666.000000</td>\n",
              "      <td>20.200000</td>\n",
              "      <td>396.225000</td>\n",
              "      <td>16.955000</td>\n",
              "    </tr>\n",
              "    <tr>\n",
              "      <th>max</th>\n",
              "      <td>88.976200</td>\n",
              "      <td>100.000000</td>\n",
              "      <td>27.740000</td>\n",
              "      <td>1.000000</td>\n",
              "      <td>0.871000</td>\n",
              "      <td>8.780000</td>\n",
              "      <td>100.000000</td>\n",
              "      <td>12.126500</td>\n",
              "      <td>24.000000</td>\n",
              "      <td>711.000000</td>\n",
              "      <td>22.000000</td>\n",
              "      <td>396.900000</td>\n",
              "      <td>37.970000</td>\n",
              "    </tr>\n",
              "  </tbody>\n",
              "</table>\n",
              "</div>"
            ],
            "text/plain": [
              "               0           1           2   ...          10          11          12\n",
              "count  506.000000  506.000000  506.000000  ...  506.000000  506.000000  506.000000\n",
              "mean     3.613524   11.363636   11.136779  ...   18.455534  356.674032   12.653063\n",
              "std      8.601545   23.322453    6.860353  ...    2.164946   91.294864    7.141062\n",
              "min      0.006320    0.000000    0.460000  ...   12.600000    0.320000    1.730000\n",
              "25%      0.082045    0.000000    5.190000  ...   17.400000  375.377500    6.950000\n",
              "50%      0.256510    0.000000    9.690000  ...   19.050000  391.440000   11.360000\n",
              "75%      3.677083   12.500000   18.100000  ...   20.200000  396.225000   16.955000\n",
              "max     88.976200  100.000000   27.740000  ...   22.000000  396.900000   37.970000\n",
              "\n",
              "[8 rows x 13 columns]"
            ]
          },
          "metadata": {},
          "execution_count": 25
        }
      ]
    },
    {
      "cell_type": "markdown",
      "metadata": {
        "id": "ppwxM0dwA0W9"
      },
      "source": [
        "what we do for the training is we willl take some data set or data frame\n",
        "\n",
        "we will keep data points with us(20%) and train the remaining data(80%)\n",
        "\n",
        "the data which we are keeping is for testing the algorithm after the training the machine learning algorithm\n",
        "\n",
        "the kept should be taken without any bias like keeping first 20% or last 20 %\n",
        "\n",
        "we have keep some random 20 % data\n",
        "\n",
        "\n",
        "\n"
      ]
    },
    {
      "cell_type": "code",
      "metadata": {
        "colab": {
          "base_uri": "https://localhost:8080/"
        },
        "id": "UV8yUxEn-YvB",
        "outputId": "e4d5a005-26b6-47f7-f9a5-55aaf1092588"
      },
      "source": [
        "from sklearn import model_selection\n",
        "\n",
        "x_train, x_test, y_train, y_test=model_selection.train_test_split(x,y)\n",
        "# it gave us 4 different arrays\n",
        "# those are x_train, x_test, y_train, y_test\n",
        "print(x_train)\n",
        "print(x_test)\n",
        "print(y_train)\n",
        "print(y_test)\n",
        "print(x_train.shape)\n",
        "# (379, 13)\n",
        "print(x_test.shape)\n",
        "# (127, 13)\n",
        "\n",
        "# train data taken 75% data\n",
        "# and test data took 25% data by default\n",
        "\n",
        "# we can change that ration too"
      ],
      "execution_count": 36,
      "outputs": [
        {
          "output_type": "stream",
          "name": "stdout",
          "text": [
            "[[1.3914e-01 0.0000e+00 4.0500e+00 ... 1.6600e+01 3.9690e+02 1.4690e+01]\n",
            " [7.0130e-02 0.0000e+00 1.3890e+01 ... 1.6400e+01 3.9278e+02 9.6900e+00]\n",
            " [7.6162e-01 2.0000e+01 3.9700e+00 ... 1.3000e+01 3.9240e+02 1.0450e+01]\n",
            " ...\n",
            " [4.5600e-02 0.0000e+00 1.3890e+01 ... 1.6400e+01 3.9280e+02 1.3510e+01]\n",
            " [7.1510e-02 0.0000e+00 4.4900e+00 ... 1.8500e+01 3.9515e+02 8.4400e+00]\n",
            " [2.8392e-01 0.0000e+00 7.3800e+00 ... 1.9600e+01 3.9113e+02 1.1740e+01]]\n",
            "[[1.06718e+01 0.00000e+00 1.81000e+01 ... 2.02000e+01 4.30600e+01\n",
            "  2.39800e+01]\n",
            " [1.78667e+01 0.00000e+00 1.81000e+01 ... 2.02000e+01 3.93740e+02\n",
            "  2.17800e+01]\n",
            " [1.10874e+01 0.00000e+00 1.81000e+01 ... 2.02000e+01 3.18750e+02\n",
            "  1.50200e+01]\n",
            " ...\n",
            " [4.09740e+00 0.00000e+00 1.95800e+01 ... 1.47000e+01 3.96900e+02\n",
            "  2.64200e+01]\n",
            " [8.26500e-02 0.00000e+00 1.39200e+01 ... 1.60000e+01 3.96900e+02\n",
            "  8.58000e+00]\n",
            " [6.63510e-01 2.00000e+01 3.97000e+00 ... 1.30000e+01 3.83290e+02\n",
            "  7.79000e+00]]\n",
            "[23.1 28.7 22.8 14.8 50.  29.  15.  17.1 43.8 19.2 29.1 32.2 36.1 21.8\n",
            " 21.2 21.2 22.3 23.  20.8 50.   5.  32.  13.2 24.5 32.4  5.6 16.5 17.4\n",
            " 22.4 46.  24.7 17.5 22.9 16.2 14.1 22.6 19.5 26.6 25.1 22.3 16.2 19.4\n",
            "  7.  23.7 20.8 16.8 24.7 26.4 19.  13.4 27.5  9.7 37.  19.  37.3 28.2\n",
            " 23.3 18.9 14.6 36.4 21.4 22.  30.1 11.3 11.9 13.8 11.5 23.8 14.4 13.8\n",
            " 15.6 19.6 22.8 21.4 27.9 20.6 10.2 15.4 34.7 36.2 50.  16.1  7.2 13.4\n",
            " 12.1 29.6 29.4 21.5 22.2 22.2 33.  26.6 22.9 28.  19.4 50.  15.  22.2\n",
            " 23.1 22.2 20.1 19.3 13.3 23.8 23.1 21.7 22.8 22.6 50.  10.5 19.1 46.7\n",
            " 12.5 35.1 18.7 17.8 19.4 31.2 18.6 33.8 22.  23.  19.9 29.  15.7 19.8\n",
            " 23.8 20.9 20.1 24.4 23.1 23.7 10.8 23.9 25.  14.3 21.4  6.3 21.2 22.7\n",
            " 20.1 11.9 20.2 31.6 16.1 13.3 35.4 26.4 33.4 17.8 21.1 17.1 22.  23.3\n",
            " 25.   8.7 30.5 24.6  9.5 18.2 17.4 30.3 34.9 21.7 50.  21.5 17.8 26.2\n",
            " 31.7 28.7 24.1 22.6 50.   8.4 20.  50.  19.5 20.8 23.1 14.3 29.8 18.3\n",
            " 25.2 19.4 30.7  8.8 19.2 37.6 21.7 19.4 25.   7.2 23.6 37.2 28.1 18.4\n",
            " 37.9 36.5 14.6 21.7 15.6 23.1 23.7 21.4 14.9 24.5 13.  25.  18.7 50.\n",
            " 35.2 16.6 21.6 19.1 23.2 18.9 25.  29.9 24.3 13.5 12.  32.7 34.9 20.1\n",
            " 23.  45.4 24.  13.1 50.  18.9 17.8 19.3 17.2 19.9 20.6 25.  18.8 42.8\n",
            " 30.1 19.6 31.  20.5 20.3 17.  24.8 24.4 13.8 24.4 19.5 26.6 14.5 16.3\n",
            "  7.2 23.8 19.7 41.3 12.3 15.2 20.  48.3 23.9 16.8 14.5 22.1 18.8 24.6\n",
            " 23.9 13.5  8.3 17.6 20.  21.7 29.6 14.4 25.  13.4 23.6 12.7 29.1 13.1\n",
            " 19.6 19.4 13.6 10.9 13.1 21.  17.1 23.4  7.  20.6 19.3 17.3 24.8 21.1\n",
            " 24.2 22.5 13.9 43.5 21.2 50.  38.7 32.5 25.  23.4 31.1 23.2 19.3 24.5\n",
            " 17.9 13.8 50.  17.4 21.6 23.2 12.8 27.1 35.4 14.1 19.8 28.6 21.7 27.\n",
            " 15.3 20.9 18.2 27.9 19.9 50.  17.2 24.3 48.8 25.3 29.8 23.9 15.6 22.\n",
            " 17.7 20.4 22.7 16.7 13.6 12.7 18.7 11.8 33.1 19.6 33.2 20.3 24.  20.3\n",
            " 27.5 20.4 20.5 31.6 10.2 21.  20.4 17.2 23.2 21.  14.  30.8 32.  42.3\n",
            " 11.  11.7 19.6 19.1  8.8 22.4 10.4 15.4 21.9 44.8 41.7 36.2 23.3 22.2\n",
            " 18.5]\n",
            "[11.8 10.2 16.7 33.2 31.5 13.1  8.5  8.5 20.6 18.6 27.5 17.8 23.  16.6\n",
            " 28.5 23.7 28.7 24.8 21.9 21.4 20.1 14.9 22.5 50.   9.6 44.  26.5 24.7\n",
            " 19.3 26.7 18.5 19.7 13.3 20.   7.5 50.   5.  33.1 17.5 18.1 20.6 15.2\n",
            " 48.5  7.4 21.9 22.  16.  33.4 14.1 19.9 39.8  8.3 18.3 31.5 18.  14.2\n",
            " 16.4 13.8 18.4 22.5 19.8 20.5 18.5 22.6 18.2 12.7 19.1 23.5 15.2 15.1\n",
            " 14.9 20.  20.7 34.9 50.  21.2 18.9 20.7 24.8 11.7 22.   8.4 18.5 10.4\n",
            " 27.5 20.3 22.  15.6 21.7 22.9 33.3 27.1 16.1 28.4 24.3 15.  34.6 24.1\n",
            " 23.1 22.8 43.1 24.1 14.5 22.6 30.1 19.5 16.5  8.1 13.4 28.4 21.8 20.4\n",
            " 10.9 32.9 24.4 13.9 12.6 17.5 10.5 23.3 20.2 18.4 22.9 20.6 15.6 23.9\n",
            " 36. ]\n",
            "(379, 13)\n",
            "(127, 13)\n"
          ]
        }
      ]
    },
    {
      "cell_type": "code",
      "metadata": {
        "id": "hJsSnF0SFQ_r"
      },
      "source": [
        "from sklearn.linear_model import LinearRegression\n",
        "alg1=LinearRegression()\n"
      ],
      "execution_count": 38,
      "outputs": []
    },
    {
      "cell_type": "code",
      "metadata": {
        "colab": {
          "base_uri": "https://localhost:8080/"
        },
        "id": "AXnssXNqKyXr",
        "outputId": "ba27b80e-f398-4f24-baa0-a39a0b3d6079"
      },
      "source": [
        "alg1.fit(x_train,y_train)\n"
      ],
      "execution_count": 39,
      "outputs": [
        {
          "output_type": "execute_result",
          "data": {
            "text/plain": [
              "LinearRegression(copy_X=True, fit_intercept=True, n_jobs=None, normalize=False)"
            ]
          },
          "metadata": {},
          "execution_count": 39
        }
      ]
    },
    {
      "cell_type": "code",
      "metadata": {
        "colab": {
          "base_uri": "https://localhost:8080/"
        },
        "id": "_QoTf_XjLCJe",
        "outputId": "9db7ca5a-6708-4ea5-91fd-0f6c68c227d9"
      },
      "source": [
        "y_pred=alg1.predict(x_test)\n",
        "y_pred\n",
        "# y_pred is what the algo is giving\n",
        "# y_test is original data\n",
        "\n"
      ],
      "execution_count": 41,
      "outputs": [
        {
          "output_type": "execute_result",
          "data": {
            "text/plain": [
              "array([12.60484215, 17.59165669, 20.42859573, 32.23283506, 31.59127132,\n",
              "       14.5203418 , 17.11102288,  8.35876965, 22.57133521, 16.76249656,\n",
              "       20.51477754, 17.77518887, 30.36522215, 15.7678836 , 33.29492978,\n",
              "       27.55108374, 30.89766093, 26.15216229, 16.52928144, 24.82441648,\n",
              "       15.64280673, 18.41093051, 22.32612781, 44.48749848, 15.32056275,\n",
              "       37.19180202, 25.71588115, 24.60933823, 20.90462158, 33.8255981 ,\n",
              "       19.75488319, 14.1186893 , 20.81438193, 23.06980191, 13.87989899,\n",
              "       40.49097903,  9.58037335, 32.82846995, 16.70881389, 17.27515011,\n",
              "       20.18535442, 15.98354089, 41.63737868,  6.3855071 , 23.72050734,\n",
              "       27.32554217, 18.93515073, 28.89709911, 16.49087094, 20.8952286 ,\n",
              "       34.83328139, 14.00376863, 20.51957242, 33.07929958, 18.9600734 ,\n",
              "       18.94896511, 19.72761924, 17.25936961, 19.78674144, 28.95701909,\n",
              "       21.57598473, 20.86294101, 25.3043187 , 27.22622759, 19.61820133,\n",
              "       18.82654115, 17.7968078 , 30.12531819, 11.56855984, 18.05159419,\n",
              "       17.95576774, 19.33311456, 26.16680166, 33.99966463, 39.94283314,\n",
              "       23.21799512, 21.83993047, 22.00807811, 25.30565747, 15.44750061,\n",
              "       26.3014731 , 15.15703216, 13.65277749,  7.78379702, 24.69361379,\n",
              "       22.8296684 , 22.25719105, 20.58913719, 22.94054278, 29.07031939,\n",
              "       35.6727757 , 27.63087832, 22.30179671, 28.71882016, 20.30132123,\n",
              "       26.07722185, 34.20738944, 20.4112472 , 25.02414458, 26.59184041,\n",
              "       37.22084191, 25.56464179, 18.377955  , 24.1833535 , 30.16535573,\n",
              "       18.66934213, 21.91048674,  3.20029039, 14.95529111, 30.987394  ,\n",
              "       21.8972607 , 20.40280513, 19.17469352, 30.06494027, 24.41949882,\n",
              "       13.67666792, 18.93807012, 17.15398762, 13.57461694, 22.19197815,\n",
              "       23.28229419, 19.51047649, 25.21966581, 27.20957893, 12.2005651 ,\n",
              "       26.02913596, 36.580841  ])"
            ]
          },
          "metadata": {},
          "execution_count": 41
        }
      ]
    },
    {
      "cell_type": "code",
      "metadata": {
        "colab": {
          "base_uri": "https://localhost:8080/",
          "height": 269
        },
        "id": "nMnbtcQaLQPs",
        "outputId": "718ec60d-2c8f-4128-dd1b-a76c0ba81fe3"
      },
      "source": [
        "import matplotlib.pyplot as plt\n",
        "plt.scatter(y_pred,y_test)\n",
        "plt.axis([0,40,0,40])\n",
        "plt.show()"
      ],
      "execution_count": 43,
      "outputs": [
        {
          "output_type": "display_data",
          "data": {
            "image/png": "[encoded data removed]",
            "text/plain": [
              "<Figure size 432x288 with 1 Axes>"
            ]
          },
          "metadata": {
            "needs_background": "light"
          }
        }
      ]
    },
    {
      "cell_type": "code",
      "metadata": {
        "id": "doh4iX9LYel0"
      },
      "source": [
        ""
      ],
      "execution_count": null,
      "outputs": []
    }
  ]
}