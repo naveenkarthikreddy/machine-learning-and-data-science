{
  "nbformat": 4,
  "nbformat_minor": 0,
  "metadata": {
    "colab": {
      "name": "M_D-numpy.ipynb",
      "provenance": [],
      "collapsed_sections": [],
      "authorship_tag": "ABX9TyOP17JA1zozsBR/ZjZqLCa2",
      "include_colab_link": true
    },
    "kernelspec": {
      "name": "python3",
      "display_name": "Python 3"
    },
    "language_info": {
      "name": "python"
    }
  },
  "cells": [
    {
      "cell_type": "markdown",
      "metadata": {
        "id": "view-in-github",
        "colab_type": "text"
      },
      "source": [
        "<a href=\"https://colab.research.google.com/github/naveenkarthikreddy/machine-learning-and-data-science/blob/main/M_D_numpy.ipynb\" target=\"_parent\"><img src=\"https://colab.research.google.com/assets/colab-badge.svg\" alt=\"Open In Colab\"/></a>"
      ]
    },
    {
      "cell_type": "markdown",
      "metadata": {
        "id": "Ijk3YiPbSQ33"
      },
      "source": [
        "NUMPY ARRAYS TAKES LESS TIME WHILE COMPARING TO NORMAL LIST\n",
        "\n",
        "numpy takes very less space while comparing with normal list \n",
        "\n",
        "numpy has lots of inbuilt function than normal list\n",
        "\n",
        "numpy allows only homogeneous type elements\n"
      ]
    },
    {
      "cell_type": "markdown",
      "metadata": {
        "id": "mquvWGCxdhal"
      },
      "source": [
        "Version of numpy"
      ]
    },
    {
      "cell_type": "code",
      "metadata": {
        "id": "io1_GHyAa8XQ"
      },
      "source": [
        "import numpy as np\n",
        "\n",
        "print(np.__version__)"
      ],
      "execution_count": null,
      "outputs": []
    },
    {
      "cell_type": "code",
      "metadata": {
        "colab": {
          "base_uri": "https://localhost:8080/"
        },
        "id": "pQwgP_ImTTgD",
        "outputId": "54cfe27c-d5b4-48c6-88bf-efc948b0a6e6"
      },
      "source": [
        "# creation of numpy arrays\n",
        "\n",
        "import numpy as np\n",
        "a=[34,35,353,356]\n",
        "b=np.array(a)\n",
        "c=np.array([3,34,35,35,346,34,3,43])\n",
        "print(b)\n",
        "print(type(b))\n",
        "print(c)"
      ],
      "execution_count": null,
      "outputs": [
        {
          "output_type": "stream",
          "name": "stdout",
          "text": [
            "[ 34  35 353 356]\n",
            "<class 'numpy.ndarray'>\n",
            "[  3  34  35  35 346  34   3  43]\n"
          ]
        }
      ]
    },
    {
      "cell_type": "code",
      "metadata": {
        "colab": {
          "base_uri": "https://localhost:8080/"
        },
        "id": "tr_e2dHsT3Mk",
        "outputId": "cc24d4f8-b9ca-4fd2-db15-665064ff44ab"
      },
      "source": [
        "import numpy as np\n",
        "a=[34, 35.33, 353, 356]\n",
        "print(a)\n",
        "\n",
        "# we can change the datatype of all the elements in the numpy array\n",
        "# numpy arrays are homogeneous,we can not put the things of different \n",
        "# data types in the same numpy array\n",
        "b=np.array(a,dtype=str)\n",
        "c=np.array(a,dtype=int)\n",
        "print(b)\n",
        "print(c)"
      ],
      "execution_count": null,
      "outputs": [
        {
          "output_type": "stream",
          "name": "stdout",
          "text": [
            "[34, 35.33, 353, 356]\n",
            "['34' '35.33' '353' '356']\n",
            "[ 34  35 353 356]\n"
          ]
        }
      ]
    },
    {
      "cell_type": "code",
      "metadata": {
        "colab": {
          "base_uri": "https://localhost:8080/"
        },
        "id": "6vuO6ib7XjBs",
        "outputId": "c077d812-e48a-4356-f267-85b9c072b8d0"
      },
      "source": [
        "# creation of numpy array \n",
        "a=[3]\n",
        "a=np.array(a*4)\n",
        "print(a)"
      ],
      "execution_count": null,
      "outputs": [
        {
          "output_type": "stream",
          "name": "stdout",
          "text": [
            "[3 3 3 3]\n"
          ]
        }
      ]
    },
    {
      "cell_type": "markdown",
      "metadata": {
        "id": "W_4QHwXfZMtF"
      },
      "source": [
        "np.ones()\n",
        "np.zeros()\n",
        "this requires 2 arguments \n",
        "1 st one is size we are required and\n",
        "the second is data type that is optional\n"
      ]
    },
    {
      "cell_type": "code",
      "metadata": {
        "colab": {
          "base_uri": "https://localhost:8080/"
        },
        "id": "QYQ_3hJQZBk0",
        "outputId": "d500fcb3-dd29-4e32-e68c-3f35ffeea2e3"
      },
      "source": [
        "a=np.ones(4)\n",
        "print(a)\n",
        "b=np.zeros(4,dtype=float)\n",
        "c=np.zeros(7,float)\n",
        "# dtype is optional\n",
        "\n",
        "print(c)"
      ],
      "execution_count": null,
      "outputs": [
        {
          "output_type": "stream",
          "name": "stdout",
          "text": [
            "[1. 1. 1. 1.]\n",
            "[0. 0. 0. 0. 0. 0. 0.]\n"
          ]
        }
      ]
    },
    {
      "cell_type": "markdown",
      "metadata": {
        "id": "ynbRhC9fZwt7"
      },
      "source": [
        "CREATION OF 2D ARRAYS\n",
        "we need to pass (x,y) in the size argument of the np.zeros or np.ones"
      ]
    },
    {
      "cell_type": "code",
      "metadata": {
        "colab": {
          "base_uri": "https://localhost:8080/"
        },
        "id": "IH4kuBaiZa9I",
        "outputId": "bd3f6a11-307f-4a74-a06a-ad1a1e457911"
      },
      "source": [
        "b=np.zeros((4,3),int)\n",
        "# (4,3) is size of the array we are wanting\n",
        "# int is the data type \n",
        "# dtype is optional\n",
        "print(b)"
      ],
      "execution_count": null,
      "outputs": [
        {
          "output_type": "stream",
          "name": "stdout",
          "text": [
            "[[0 0 0]\n",
            " [0 0 0]\n",
            " [0 0 0]\n",
            " [0 0 0]]\n"
          ]
        }
      ]
    },
    {
      "cell_type": "markdown",
      "metadata": {
        "id": "7kGdyJnrarKl"
      },
      "source": [
        "full() needs 2 arguments \n",
        "1st one is the size and \n",
        "second is thing which we wanted to fill the array"
      ]
    },
    {
      "cell_type": "code",
      "metadata": {
        "colab": {
          "base_uri": "https://localhost:8080/"
        },
        "id": "Vt1ooezXZ6vk",
        "outputId": "68ddba4a-be81-47c9-e133-3bc3cf77eb20"
      },
      "source": [
        "a=np.full(5,3)\n",
        "print(a)\n",
        "b=np.full((5,5),6,str)\n",
        "print(b)"
      ],
      "execution_count": null,
      "outputs": [
        {
          "output_type": "stream",
          "name": "stdout",
          "text": [
            "[3 3 3 3 3]\n",
            "[['6' '6' '6' '6' '6']\n",
            " ['6' '6' '6' '6' '6']\n",
            " ['6' '6' '6' '6' '6']\n",
            " ['6' '6' '6' '6' '6']\n",
            " ['6' '6' '6' '6' '6']]\n"
          ]
        }
      ]
    },
    {
      "cell_type": "markdown",
      "metadata": {
        "id": "0sbyMkC4ekcM"
      },
      "source": [
        "0D\n",
        "1D\n",
        "2D\n",
        "3D"
      ]
    },
    {
      "cell_type": "code",
      "metadata": {
        "id": "ujrYjY7TeqGk"
      },
      "source": [
        "\n",
        "# OD ARRAY\n",
        "arr = np.array(42)\n",
        "\n",
        "# 1D ARRAY\n",
        "arr = np.array([1, 2, 3, 4, 5])\n",
        "\n",
        "# 2D ARRAY\n",
        "arr = np.array([[1, 2, 3], [4, 5, 6]])\n",
        "\n",
        "# 3D ARRAY\n",
        "arr = np.array([[[1, 2, 3], [4, 5, 6]], [[1, 2, 3], [4, 5, 6]]])"
      ],
      "execution_count": null,
      "outputs": []
    },
    {
      "cell_type": "markdown",
      "metadata": {
        "id": "JWqYEhjafykE"
      },
      "source": [
        "INDEXING IN NUMPY ARRAYS"
      ]
    },
    {
      "cell_type": "code",
      "metadata": {
        "colab": {
          "base_uri": "https://localhost:8080/"
        },
        "id": "cNOAcpCXf1Cx",
        "outputId": "386c15fe-5660-4a93-973d-e471d404fda1"
      },
      "source": [
        "a=np.array([23,3,34,3,53,3346,46,4543])\n",
        "# we can get the size of the array\n",
        "print(a.size)\n",
        "\n",
        "\n",
        "sizeOfArray=a.size\n",
        "\n",
        "\n",
        "index_sum=0\n",
        "# accessing of elements through index\n",
        "for i in range(sizeOfArray):\n",
        "  index_sum+=a[i]\n",
        "print(\"index_sum\",index_sum)  \n",
        "\n",
        "\n",
        "\n",
        "sum=0\n",
        "# accessing of elements through in\n",
        "for i in a:\n",
        "  sum +=i\n",
        "print(\"sum\",sum)  \n"
      ],
      "execution_count": null,
      "outputs": [
        {
          "output_type": "stream",
          "name": "stdout",
          "text": [
            "8\n",
            "index_sum 8051\n",
            "sum 8051\n"
          ]
        }
      ]
    },
    {
      "cell_type": "markdown",
      "metadata": {
        "id": "4M0RrD2Ai7oE"
      },
      "source": [
        "accessing the elements through indexing(negative and possitive)\n"
      ]
    },
    {
      "cell_type": "code",
      "metadata": {
        "colab": {
          "base_uri": "https://localhost:8080/"
        },
        "id": "bVtZKS5fgIPv",
        "outputId": "344bd51b-d335-4c94-cc9f-7c01b3ff7739"
      },
      "source": [
        "arr = np.array([[[1, 2, 3], [4, 5, 6]], [[1, 2, 3], [4, 5, 6]]])\n",
        "print(arr[1,1,1])\n",
        "print(arr[1,1,-1])"
      ],
      "execution_count": null,
      "outputs": [
        {
          "output_type": "stream",
          "name": "stdout",
          "text": [
            "5\n",
            "6\n"
          ]
        }
      ]
    },
    {
      "cell_type": "markdown",
      "metadata": {
        "id": "pNiOZiDzj4Wt"
      },
      "source": [
        "SLICING OF NUMPY ARRAYS\n"
      ]
    },
    {
      "cell_type": "code",
      "metadata": {
        "colab": {
          "base_uri": "https://localhost:8080/"
        },
        "id": "guMTfT1vivQf",
        "outputId": "83b28748-3683-4f26-e027-5561fa6c4744"
      },
      "source": [
        "a=np.array([3,3,534,35,34,345,35,343,343,3,365,64])\n",
        "print(a[:a.size:2])"
      ],
      "execution_count": null,
      "outputs": [
        {
          "output_type": "stream",
          "name": "stdout",
          "text": [
            "[  3 534  34  35 343 365]\n"
          ]
        }
      ]
    },
    {
      "cell_type": "markdown",
      "metadata": {
        "id": "4kPYQ3JOlBoK"
      },
      "source": [
        "The Difference Between Copy and View\n",
        "The main difference between a copy and a view of an array is that the copy is a new array, and the view is just a view of the original array.\n",
        "\n",
        "The copy owns the data and any changes made to the copy will not affect original array, and any changes made to the original array will not affect the copy.\n",
        "\n",
        "The view does not own the data and any changes made to the view will affect the original array, and any changes made to the original array will affect the view.\n"
      ]
    },
    {
      "cell_type": "code",
      "metadata": {
        "colab": {
          "base_uri": "https://localhost:8080/"
        },
        "id": "IhZ9QEpNkFWo",
        "outputId": "4a7ed368-91bf-4097-993f-235c1b7bc5f1"
      },
      "source": [
        "a=np.zeros(5)\n",
        "b=a.view()\n",
        "c=a.copy()\n",
        "\n",
        "# if we view the array the changes done in the prev array will be reflected to the viewed array\n",
        "# if we copy the array the changes done in the prev array will not be reflected to the copied array\n",
        "a[2]=343\n",
        "\n",
        "print(a)\n",
        "print(b)\n",
        "print(c)\n"
      ],
      "execution_count": null,
      "outputs": [
        {
          "output_type": "stream",
          "name": "stdout",
          "text": [
            "[  0.   0. 343.   0.   0.]\n",
            "[  0.   0. 343.   0.   0.]\n",
            "[0. 0. 0. 0. 0.]\n"
          ]
        }
      ]
    },
    {
      "cell_type": "markdown",
      "metadata": {
        "id": "TL0Iu0eNobmj"
      },
      "source": [
        "SHAPE OF THE ARRAY\n",
        "\n",
        "SHAPE WILL RETURN THE SHAPE(SIZE OF X AND SIZE OF Y) OF THE ARRAY"
      ]
    },
    {
      "cell_type": "code",
      "metadata": {
        "colab": {
          "base_uri": "https://localhost:8080/"
        },
        "id": "qEx7zwaJnhWt",
        "outputId": "660513b0-49a9-48b9-8250-6a95362a2b74"
      },
      "source": [
        "arr = np.array([[1, 2, 3, 4], [5, 6, 7, 8]])\n",
        "\n",
        "print(arr.shape)"
      ],
      "execution_count": null,
      "outputs": [
        {
          "output_type": "stream",
          "name": "stdout",
          "text": [
            "(2, 4)\n"
          ]
        }
      ]
    },
    {
      "cell_type": "markdown",
      "metadata": {
        "id": "jGH4JYg5o40O"
      },
      "source": [
        "RESHAPE()\n",
        "\n",
        "WE CAN RESHAPE THE 1D ARRAY TO 2D ARRAY BY USING THE RESHAPE()"
      ]
    },
    {
      "cell_type": "code",
      "metadata": {
        "colab": {
          "base_uri": "https://localhost:8080/"
        },
        "id": "HxgTD8XVpH-D",
        "outputId": "64db3ea5-f9bf-4cf0-afc3-f089f690b14e"
      },
      "source": [
        "a=np.array([1,2,3,4,5,6,7,8,9])\n",
        "b=a.reshape(3,3)\n",
        "print(a)\n",
        "print(b)"
      ],
      "execution_count": null,
      "outputs": [
        {
          "output_type": "stream",
          "name": "stdout",
          "text": [
            "[1 2 3 4 5 6 7 8 9]\n",
            "[[1 2 3]\n",
            " [4 5 6]\n",
            " [7 8 9]]\n"
          ]
        }
      ]
    },
    {
      "cell_type": "markdown",
      "metadata": {
        "id": "MPYKt68ep0Qy"
      },
      "source": [
        "ITTERATING 2D ARRAYS"
      ]
    },
    {
      "cell_type": "code",
      "metadata": {
        "colab": {
          "base_uri": "https://localhost:8080/"
        },
        "id": "TNsGkcP1pUuz",
        "outputId": "0d60f3df-36f4-437e-dbdd-722529f0d05a"
      },
      "source": [
        "arr = np.array([[1, 2, 3], [4, 5, 6]])\n",
        "for i in arr:\n",
        "  for j in i:\n",
        "    # we can print the each element in 2d array\n",
        "    print(j)\n",
        "    \n",
        "for i in arr:\n",
        "  # we can print the single dimension array of 2d array\n",
        "  print(i)    "
      ],
      "execution_count": null,
      "outputs": [
        {
          "output_type": "stream",
          "name": "stdout",
          "text": [
            "1\n",
            "2\n",
            "3\n",
            "4\n",
            "5\n",
            "6\n",
            "[1 2 3]\n",
            "[4 5 6]\n"
          ]
        }
      ]
    },
    {
      "cell_type": "markdown",
      "metadata": {
        "id": "fdBkb0S_unxE"
      },
      "source": [
        "ARANGE()\n",
        "arange(1,51,2)\n",
        "\n",
        "first value is start and second is end\n",
        "\n",
        "third one is jump\n",
        "\n",
        "1st value is inclusive\n",
        "\n",
        "2nd value is exclusive\n"
      ]
    },
    {
      "cell_type": "code",
      "metadata": {
        "id": "k-x3dLYKp-8i",
        "colab": {
          "base_uri": "https://localhost:8080/"
        },
        "outputId": "d565f742-45d9-44b7-e451-a4d3bcfa9206"
      },
      "source": [
        "import numpy as np\n",
        "a=np.arange(10)\n",
        "print(a)\n",
        "b=np.arange(1,51,2)\n",
        "print(b)"
      ],
      "execution_count": 2,
      "outputs": [
        {
          "output_type": "stream",
          "name": "stdout",
          "text": [
            "[0 1 2 3 4 5 6 7 8 9]\n",
            "[ 1  3  5  7  9 11 13 15 17 19 21 23 25 27 29 31 33 35 37 39 41 43 45 47\n",
            " 49]\n"
          ]
        }
      ]
    },
    {
      "cell_type": "markdown",
      "metadata": {
        "id": "7RItUHXzxtBx"
      },
      "source": [
        "linespace(0,9)\n",
        "\n",
        "linespace(0,9,100)\n",
        "\n",
        "both the start and end are inclusive\n",
        "\n",
        "first value is starting value and\n",
        "\n",
        "second value is the ending value\n",
        "\n",
        "third one is no of samples,but it is optional\n",
        "\n",
        "defaultly it is set to 50 samples\n",
        "\n",
        "to know the step of the values,find the difference between the consecutive values\n"
      ]
    },
    {
      "cell_type": "code",
      "metadata": {
        "id": "UtgnvV_juvUE",
        "colab": {
          "base_uri": "https://localhost:8080/"
        },
        "outputId": "9a3e8c23-7566-4a9a-d711-9aaac0e51f93"
      },
      "source": [
        "a=np.linspace(2,9)\n",
        "print(a)\n",
        "# by default the values are 50\n",
        "\n",
        "\n",
        "b=np.linspace(2,9,77)\n",
        "print(b)\n",
        "step=b[1]-b[0]\n",
        "print(\"step\",step)"
      ],
      "execution_count": 7,
      "outputs": [
        {
          "output_type": "stream",
          "name": "stdout",
          "text": [
            "[2.         2.14285714 2.28571429 2.42857143 2.57142857 2.71428571\n",
            " 2.85714286 3.         3.14285714 3.28571429 3.42857143 3.57142857\n",
            " 3.71428571 3.85714286 4.         4.14285714 4.28571429 4.42857143\n",
            " 4.57142857 4.71428571 4.85714286 5.         5.14285714 5.28571429\n",
            " 5.42857143 5.57142857 5.71428571 5.85714286 6.         6.14285714\n",
            " 6.28571429 6.42857143 6.57142857 6.71428571 6.85714286 7.\n",
            " 7.14285714 7.28571429 7.42857143 7.57142857 7.71428571 7.85714286\n",
            " 8.         8.14285714 8.28571429 8.42857143 8.57142857 8.71428571\n",
            " 8.85714286 9.        ]\n",
            "[2.         2.09210526 2.18421053 2.27631579 2.36842105 2.46052632\n",
            " 2.55263158 2.64473684 2.73684211 2.82894737 2.92105263 3.01315789\n",
            " 3.10526316 3.19736842 3.28947368 3.38157895 3.47368421 3.56578947\n",
            " 3.65789474 3.75       3.84210526 3.93421053 4.02631579 4.11842105\n",
            " 4.21052632 4.30263158 4.39473684 4.48684211 4.57894737 4.67105263\n",
            " 4.76315789 4.85526316 4.94736842 5.03947368 5.13157895 5.22368421\n",
            " 5.31578947 5.40789474 5.5        5.59210526 5.68421053 5.77631579\n",
            " 5.86842105 5.96052632 6.05263158 6.14473684 6.23684211 6.32894737\n",
            " 6.42105263 6.51315789 6.60526316 6.69736842 6.78947368 6.88157895\n",
            " 6.97368421 7.06578947 7.15789474 7.25       7.34210526 7.43421053\n",
            " 7.52631579 7.61842105 7.71052632 7.80263158 7.89473684 7.98684211\n",
            " 8.07894737 8.17105263 8.26315789 8.35526316 8.44736842 8.53947368\n",
            " 8.63157895 8.72368421 8.81578947 8.90789474 9.        ]\n",
            "step 0.09210526315789469\n"
          ]
        }
      ]
    },
    {
      "cell_type": "markdown",
      "metadata": {
        "id": "o8rDncBr0jDl"
      },
      "source": [
        "identity(a)\n",
        "\n",
        "we can print a identity matrix of size a \n"
      ]
    },
    {
      "cell_type": "code",
      "metadata": {
        "colab": {
          "base_uri": "https://localhost:8080/"
        },
        "id": "M2XpW3xt0mKb",
        "outputId": "72a4c63c-4972-4037-cae3-56afb3b9868e"
      },
      "source": [
        "a=np.identity(5)\n",
        "print(a)"
      ],
      "execution_count": 8,
      "outputs": [
        {
          "output_type": "stream",
          "name": "stdout",
          "text": [
            "[[1. 0. 0. 0. 0.]\n",
            " [0. 1. 0. 0. 0.]\n",
            " [0. 0. 1. 0. 0.]\n",
            " [0. 0. 0. 1. 0.]\n",
            " [0. 0. 0. 0. 1.]]\n"
          ]
        }
      ]
    },
    {
      "cell_type": "markdown",
      "metadata": {
        "id": "1n3czAfY0472"
      },
      "source": [
        "np.eye(3,5)\n",
        "\n",
        "we can get a matrix of rectangular type but that is idenetical\n"
      ]
    },
    {
      "cell_type": "code",
      "metadata": {
        "colab": {
          "base_uri": "https://localhost:8080/"
        },
        "id": "oXSJMw8PyvEF",
        "outputId": "88ab95de-fbe6-437e-e6aa-c1b7152e13fa"
      },
      "source": [
        "a=np.eye(3,5,dtype=int)\n",
        "print(a)\n",
        "\n",
        "b=np.eye(4)\n",
        "print(b)"
      ],
      "execution_count": 12,
      "outputs": [
        {
          "output_type": "stream",
          "name": "stdout",
          "text": [
            "[[1 0 0 0 0]\n",
            " [0 1 0 0 0]\n",
            " [0 0 1 0 0]]\n",
            "[[1. 0. 0. 0.]\n",
            " [0. 1. 0. 0.]\n",
            " [0. 0. 1. 0.]\n",
            " [0. 0. 0. 1.]]\n"
          ]
        }
      ]
    },
    {
      "cell_type": "markdown",
      "metadata": {
        "id": "x6S8ovS_1cNC"
      },
      "source": [
        "random()\n",
        "\n",
        "this will create a array of size mentioned and values are in between the 0 and 1"
      ]
    },
    {
      "cell_type": "code",
      "metadata": {
        "colab": {
          "base_uri": "https://localhost:8080/"
        },
        "id": "LbQjt4Bt0hRn",
        "outputId": "2c7e1447-bb88-4abb-83ce-b2ac696f537c"
      },
      "source": [
        "a=np.random.rand(5)\n",
        "# \n",
        "print(a)"
      ],
      "execution_count": 13,
      "outputs": [
        {
          "output_type": "stream",
          "name": "stdout",
          "text": [
            "[0.24139942 0.50115711 0.90441318 0.50292777 0.51886256]\n"
          ]
        }
      ]
    },
    {
      "cell_type": "code",
      "metadata": {
        "colab": {
          "base_uri": "https://localhost:8080/"
        },
        "id": "FJTkeimY1w9h",
        "outputId": "4b828fc5-38dc-4493-b340-9e2de0d109b1"
      },
      "source": [
        "# if we need the values to be in the range of o to 10 \n",
        "# then mutliply the array with 10 ,so the values will \n",
        "# be in between the o and 10\n",
        "\n",
        "b=np.random.rand(5,5)*10\n",
        "print(b)"
      ],
      "execution_count": 15,
      "outputs": [
        {
          "output_type": "stream",
          "name": "stdout",
          "text": [
            "[[3.73351483 8.45017554 2.74515222 1.7283556  0.64049125]\n",
            " [6.6284979  4.34702138 6.28769053 5.2793919  0.8923457 ]\n",
            " [0.02182895 6.93522665 0.91067338 6.45731877 3.49313768]\n",
            " [5.42063093 6.38105251 0.5150541  4.52695099 8.62715   ]\n",
            " [1.76906711 9.64284674 6.06187546 1.07618598 7.39683018]]\n"
          ]
        }
      ]
    },
    {
      "cell_type": "code",
      "metadata": {
        "colab": {
          "base_uri": "https://localhost:8080/"
        },
        "id": "tVz-VvhQ2QkR",
        "outputId": "9638cceb-a105-46cb-b727-1ca588c1abcb"
      },
      "source": [
        "c=np.random.randint(5,44)\n",
        "print(c)"
      ],
      "execution_count": 19,
      "outputs": [
        {
          "output_type": "stream",
          "name": "stdout",
          "text": [
            "23\n"
          ]
        }
      ]
    },
    {
      "cell_type": "markdown",
      "metadata": {
        "id": "sO0Frxqt5ZN0"
      },
      "source": [
        "SLICING IN 2d NUMPY ARRAY\n"
      ]
    },
    {
      "cell_type": "code",
      "metadata": {
        "colab": {
          "base_uri": "https://localhost:8080/"
        },
        "id": "AiIWWhzq2vQx",
        "outputId": "5575c4a1-2b95-4619-c71f-4402b6402e19"
      },
      "source": [
        "a=np.array([[1,2,3,4],[5,6,7,8],[9,10,11,12],[13,14,15,16]])\n",
        "print(a)\n",
        "print(a[1,3])\n",
        "print(a[1:3])\n",
        "print(a[3][2])\n",
        "print(a[1:3,2])\n",
        "print(a[2:4,1:3])"
      ],
      "execution_count": 30,
      "outputs": [
        {
          "output_type": "stream",
          "name": "stdout",
          "text": [
            "[[ 1  2  3  4]\n",
            " [ 5  6  7  8]\n",
            " [ 9 10 11 12]\n",
            " [13 14 15 16]]\n",
            "8\n",
            "[[ 5  6  7  8]\n",
            " [ 9 10 11 12]]\n",
            "15\n",
            "[ 7 11]\n",
            "[[10 11]\n",
            " [14 15]]\n"
          ]
        }
      ]
    },
    {
      "cell_type": "markdown",
      "metadata": {
        "id": "z2S2nz7k7uIo"
      },
      "source": [
        "random.randint(a,b,c)\n",
        "\n",
        "it takes 3 values\n",
        "\n",
        "first one is start \n",
        "\n",
        "second is ending\n",
        "\n",
        "last one is number of value you nee"
      ]
    },
    {
      "cell_type": "code",
      "metadata": {
        "colab": {
          "base_uri": "https://localhost:8080/"
        },
        "id": "rvLUEwlD6U6c",
        "outputId": "057e15cd-cc20-431e-a5a2-8941a34ea00a"
      },
      "source": [
        "a=np.random.randint(1,20,10)\n",
        "print(a)\n",
        "b=np.random.randint(20,30,10)\n",
        "a=a+2\n",
        "# we can add 2 to all the elements by using this\n",
        "# we will do the same operation using the code in normal list\n",
        "# a=[i+2 for i in a]\n",
        "print(a)\n",
        "c=a+b\n",
        "print(c)\n",
        "print(a/b)\n",
        "print(b-a)\n",
        "print(a*b)\n",
        "print(b**a)"
      ],
      "execution_count": 37,
      "outputs": [
        {
          "output_type": "stream",
          "name": "stdout",
          "text": [
            "[ 1  9 15 13 15  8 12 18 11 17]\n",
            "[ 3 11 17 15 17 10 14 20 13 19]\n",
            "[32 40 41 37 39 31 35 47 42 48]\n",
            "[0.10344828 0.37931034 0.70833333 0.68181818 0.77272727 0.47619048\n",
            " 0.66666667 0.74074074 0.44827586 0.65517241]\n",
            "[26 18  7  7  5 11  7  7 16 10]\n",
            "[ 87 319 408 330 374 210 294 540 377 551]\n",
            "[               24389    12200509765705829  3321404725185740800\n",
            "  7752859499445190656  7694950768433299456       16679880978201\n",
            "  3243919932521508681 -3535985420588157519 -8186115360750949427\n",
            "  2582043123166336389]\n",
            "139\n"
          ]
        }
      ]
    },
    {
      "cell_type": "markdown",
      "metadata": {
        "id": "x5pJdvZF8DdB"
      },
      "source": [
        "mathematical operations"
      ]
    },
    {
      "cell_type": "code",
      "metadata": {
        "colab": {
          "base_uri": "https://localhost:8080/"
        },
        "id": "CRKjvHIr8CfO",
        "outputId": "3834b631-6846-4cfe-f391-ca5f0006f5f5"
      },
      "source": [
        "a=np.random.randint(10,30,20)\n",
        "print(a)\n",
        "print(a.sum())\n",
        "print(a.min())\n",
        "print(a.max())\n",
        "print(a.mean())\n",
        "print(a.argmin())\n",
        "# index of minimum element\n",
        "print(a.argmax())\n",
        "# index of maximum element\n",
        "\n"
      ],
      "execution_count": 43,
      "outputs": [
        {
          "output_type": "stream",
          "name": "stdout",
          "text": [
            "[26 23 15 14 21 24 19 14 28 18 18 25 27 10 26 11 26 20 15 27]\n",
            "407\n",
            "10\n",
            "28\n",
            "20.35\n",
            "13\n",
            "8\n"
          ]
        }
      ]
    },
    {
      "cell_type": "code",
      "metadata": {
        "colab": {
          "base_uri": "https://localhost:8080/"
        },
        "id": "E0lGiahWFyJP",
        "outputId": "5d5f1679-c577-411e-d123-7ec8641f39bf"
      },
      "source": [
        "a=np.random.randint(0,3,20)\n",
        "b=np.random.randint(0,3,20)\n",
        "print(a>b)\n",
        "print(a<b)\n",
        "print(a==b)\n"
      ],
      "execution_count": 49,
      "outputs": [
        {
          "output_type": "stream",
          "name": "stdout",
          "text": [
            "[False False False False  True False False False False False False False\n",
            " False False False  True  True  True  True False]\n",
            "[ True False  True  True False  True  True  True  True False  True  True\n",
            "  True False  True False False False False  True]\n",
            "[False  True False False False False False False False  True False False\n",
            " False  True False False False False False False]\n"
          ]
        }
      ]
    },
    {
      "cell_type": "code",
      "metadata": {
        "colab": {
          "base_uri": "https://localhost:8080/"
        },
        "id": "yBBlnOi3Idsx",
        "outputId": "d2fe900c-907d-4a9f-bd97-f05c40dd5765"
      },
      "source": [
        "a=np.random.randint(0,3,20)\n",
        "b=np.random.randint(0,3,20)\n",
        "print(np.logical_and(a,b))\n",
        "print(np.logical_or(a,b))\n",
        "print(np.logical_not(a,b))"
      ],
      "execution_count": 53,
      "outputs": [
        {
          "output_type": "stream",
          "name": "stdout",
          "text": [
            "[False  True False  True False  True False False False False  True False\n",
            " False  True  True False  True False False False]\n",
            "[ True  True  True  True False  True  True  True  True False  True  True\n",
            " False  True  True  True  True  True False  True]\n",
            "[1 0 0 0 1 0 0 1 0 1 0 0 1 0 0 1 0 0 1 0]\n"
          ]
        }
      ]
    },
    {
      "cell_type": "markdown",
      "metadata": {
        "id": "2ArGB2k0jNGj"
      },
      "source": [
        "# BOOLEAN INDEXING"
      ]
    },
    {
      "cell_type": "code",
      "metadata": {
        "colab": {
          "base_uri": "https://localhost:8080/"
        },
        "id": "KbSxhEUtJMod",
        "outputId": "61ffcbdb-ed75-499a-8d5e-a224fa156df7"
      },
      "source": [
        "a=np.random.randint(1,20,10)\n",
        "print(a)\n",
        "print(a>10)"
      ],
      "execution_count": 55,
      "outputs": [
        {
          "output_type": "stream",
          "name": "stdout",
          "text": [
            "[ 4 16 16  6  4  6  9  9  1 17]\n",
            "[False  True  True False False False False False False  True]\n"
          ]
        }
      ]
    },
    {
      "cell_type": "markdown",
      "metadata": {
        "id": "Ua9rcDFlg9Fb"
      },
      "source": [
        "print the elements of the arrays where the elements of the given array are greater than 10"
      ]
    },
    {
      "cell_type": "code",
      "metadata": {
        "colab": {
          "base_uri": "https://localhost:8080/"
        },
        "id": "lcBrVSCXW1iT",
        "outputId": "d2b65e0d-bf5f-4aba-be78-a0a3869ba2f2"
      },
      "source": [
        "b=np.random.randint(1,20,10)\n",
        "bool_array=b>10\n",
        "new_arr=b[bool_array]\n",
        "print(new_arr)\n",
        "new_array=b[b>10]\n",
        "print(new_array)"
      ],
      "execution_count": 57,
      "outputs": [
        {
          "output_type": "stream",
          "name": "stdout",
          "text": [
            "[11 17 11 11 16]\n",
            "[11 17 11 11 16]\n"
          ]
        }
      ]
    },
    {
      "cell_type": "markdown",
      "metadata": {
        "id": "PY2LvnDqhDri"
      },
      "source": [
        "where()\n",
        "it is used to find the index of a element"
      ]
    },
    {
      "cell_type": "code",
      "metadata": {
        "colab": {
          "base_uri": "https://localhost:8080/"
        },
        "id": "5BRzqBkYgoD7",
        "outputId": "f7a06daa-11e8-4395-f478-c639f5fb367c"
      },
      "source": [
        "a=np.random.randint(1,4,20)\n",
        "print(a)\n",
        "\n",
        "b=np.where(a==3)\n",
        "print(b)"
      ],
      "execution_count": 62,
      "outputs": [
        {
          "output_type": "stream",
          "name": "stdout",
          "text": [
            "[3 1 2 1 2 1 2 2 2 3 2 2 3 2 3 3 3 3 1 3]\n",
            "(array([ 0,  9, 12, 14, 15, 16, 17, 19]),)\n"
          ]
        }
      ]
    },
    {
      "cell_type": "code",
      "metadata": {
        "colab": {
          "base_uri": "https://localhost:8080/"
        },
        "id": "4W5M8eCDhYUQ",
        "outputId": "c6dfcede-ebee-4592-8ad9-6e8e7e1fc5f5"
      },
      "source": [
        "a=np.random.randint(1,15,20)\n",
        "print(a)\n",
        "b=np.where(a>10)\n",
        "print(b)"
      ],
      "execution_count": 63,
      "outputs": [
        {
          "output_type": "stream",
          "name": "stdout",
          "text": [
            "[ 3  1 13  6 14 11  9 11  1 12  2  2  8  9 12  5  8  4  9 11]\n",
            "(array([ 2,  4,  5,  7,  9, 14, 19]),)\n"
          ]
        }
      ]
    },
    {
      "cell_type": "markdown",
      "metadata": {
        "id": "kcNMpPSOjbSr"
      },
      "source": [
        "FOR 2D ARRAYS\n"
      ]
    },
    {
      "cell_type": "code",
      "metadata": {
        "colab": {
          "base_uri": "https://localhost:8080/"
        },
        "id": "xw4tLDcSi7Wd",
        "outputId": "51419837-0210-4d5e-a8de-91f3a9da1024"
      },
      "source": [
        "a=np.random.randint(1,20,(5,6))\n",
        "print(a)\n",
        "bool_arr=a>10\n",
        "print(bool_arr)\n",
        "print(a[bool_arr])\n"
      ],
      "execution_count": 66,
      "outputs": [
        {
          "output_type": "stream",
          "name": "stdout",
          "text": [
            "[[17  5  4  3 11  3]\n",
            " [14 12  5 17  2  8]\n",
            " [ 7 14  7 18 12  1]\n",
            " [19 13  7  7  6 17]\n",
            " [18  3 15  8 12 11]]\n",
            "[[ True False False False  True False]\n",
            " [ True  True False  True False False]\n",
            " [False  True False  True  True False]\n",
            " [ True  True False False False  True]\n",
            " [ True False  True False  True  True]]\n",
            "[17 11 14 12 17 14 18 12 19 13 17 18 15 12 11]\n"
          ]
        }
      ]
    },
    {
      "cell_type": "markdown",
      "metadata": {
        "id": "KmDtCQmTkgpI"
      },
      "source": [
        "change the elements to 100 if those are greater than 15"
      ]
    },
    {
      "cell_type": "code",
      "metadata": {
        "colab": {
          "base_uri": "https://localhost:8080/"
        },
        "id": "EqHU0-o_jitA",
        "outputId": "53498862-7636-4dd4-a821-409d429dfde0"
      },
      "source": [
        "a=np.random.randint(1,20,(5,5))\n",
        "print(a)\n",
        "bool_arr=a>15\n",
        "a[bool_arr]=100\n",
        "print(a)\n"
      ],
      "execution_count": 69,
      "outputs": [
        {
          "output_type": "stream",
          "name": "stdout",
          "text": [
            "[[11 15 15  9  2]\n",
            " [13 13 12 16  7]\n",
            " [10  7 17 18 13]\n",
            " [ 6 18 14 14  9]\n",
            " [ 5  6 13 18  4]]\n",
            "[[ 11  15  15   9   2]\n",
            " [ 13  13  12 100   7]\n",
            " [ 10   7 100 100  13]\n",
            " [  6 100  14  14   9]\n",
            " [  5   6  13 100   4]]\n"
          ]
        }
      ]
    },
    {
      "cell_type": "code",
      "metadata": {
        "colab": {
          "base_uri": "https://localhost:8080/"
        },
        "id": "URFMi0LXkExZ",
        "outputId": "02f37518-3acc-4ae1-de24-fb7f09d11443"
      },
      "source": [
        "a=np.random.randint(1,3,(5,5))\n",
        "print(a)\n",
        "# changing the values in the 3rd column if there is 1 to 100\n",
        "bool_arr=(a[:,2]==1)\n",
        "print(bool_arr)\n",
        "# print(a[:,2])\n",
        "a[bool_arr,2]=100\n",
        "# a[bool_arr,2] bool_arr will defines which row to select\n",
        "print(a)\n",
        "\n"
      ],
      "execution_count": 81,
      "outputs": [
        {
          "output_type": "stream",
          "name": "stdout",
          "text": [
            "[[1 1 1 2 2]\n",
            " [2 2 2 1 1]\n",
            " [2 1 1 2 1]\n",
            " [1 2 2 2 2]\n",
            " [2 2 1 2 2]]\n",
            "[ True False  True False  True]\n",
            "[[  1   1 100   2   2]\n",
            " [  2   2   2   1   1]\n",
            " [  2   1 100   2   1]\n",
            " [  1   2   2   2   2]\n",
            " [  2   2 100   2   2]]\n"
          ]
        }
      ]
    },
    {
      "cell_type": "code",
      "metadata": {
        "id": "rBJaf1gbmcCI"
      },
      "source": [
        ""
      ],
      "execution_count": 76,
      "outputs": []
    }
  ]
}