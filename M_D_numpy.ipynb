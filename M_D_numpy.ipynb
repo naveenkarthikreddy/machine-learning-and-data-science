{
  "nbformat": 4,
  "nbformat_minor": 0,
  "metadata": {
    "colab": {
      "name": "M_D-numpy.ipynb",
      "provenance": [],
      "collapsed_sections": [],
      "authorship_tag": "ABX9TyNEVpkRuLQMf7Qr5fWQaGEU",
      "include_colab_link": true
    },
    "kernelspec": {
      "name": "python3",
      "display_name": "Python 3"
    },
    "language_info": {
      "name": "python"
    }
  },
  "cells": [
    {
      "cell_type": "markdown",
      "metadata": {
        "id": "view-in-github",
        "colab_type": "text"
      },
      "source": [
        "<a href=\"https://colab.research.google.com/github/naveenkarthikreddy/machine-learning-and-data-science/blob/main/M_D_numpy.ipynb\" target=\"_parent\"><img src=\"https://colab.research.google.com/assets/colab-badge.svg\" alt=\"Open In Colab\"/></a>"
      ]
    },
    {
      "cell_type": "markdown",
      "metadata": {
        "id": "Ijk3YiPbSQ33"
      },
      "source": [
        "NUMPY ARRAYS TAKES LESS TIME WHILE COMPARING TO NORMAL LIST\n",
        "\n",
        "numpy takes very less space while comparing with normal list \n",
        "\n",
        "numpy has lots of inbuilt function than normal list\n",
        "\n",
        "numpy allows only homogeneous type elements\n"
      ]
    },
    {
      "cell_type": "markdown",
      "metadata": {
        "id": "mquvWGCxdhal"
      },
      "source": [
        "Version of numpy"
      ]
    },
    {
      "cell_type": "code",
      "metadata": {
        "id": "io1_GHyAa8XQ"
      },
      "source": [
        "import numpy as np\n",
        "\n",
        "print(np.__version__)"
      ],
      "execution_count": null,
      "outputs": []
    },
    {
      "cell_type": "code",
      "metadata": {
        "colab": {
          "base_uri": "https://localhost:8080/"
        },
        "id": "pQwgP_ImTTgD",
        "outputId": "54cfe27c-d5b4-48c6-88bf-efc948b0a6e6"
      },
      "source": [
        "# creation of numpy arrays\n",
        "\n",
        "import numpy as np\n",
        "a=[34,35,353,356]\n",
        "b=np.array(a)\n",
        "c=np.array([3,34,35,35,346,34,3,43])\n",
        "print(b)\n",
        "print(type(b))\n",
        "print(c)"
      ],
      "execution_count": null,
      "outputs": [
        {
          "output_type": "stream",
          "name": "stdout",
          "text": [
            "[ 34  35 353 356]\n",
            "<class 'numpy.ndarray'>\n",
            "[  3  34  35  35 346  34   3  43]\n"
          ]
        }
      ]
    },
    {
      "cell_type": "code",
      "metadata": {
        "colab": {
          "base_uri": "https://localhost:8080/"
        },
        "id": "tr_e2dHsT3Mk",
        "outputId": "cc24d4f8-b9ca-4fd2-db15-665064ff44ab"
      },
      "source": [
        "import numpy as np\n",
        "a=[34, 35.33, 353, 356]\n",
        "print(a)\n",
        "\n",
        "# we can change the datatype of all the elements in the numpy array\n",
        "# numpy arrays are homogeneous,we can not put the things of different \n",
        "# data types in the same numpy array\n",
        "b=np.array(a,dtype=str)\n",
        "c=np.array(a,dtype=int)\n",
        "print(b)\n",
        "print(c)"
      ],
      "execution_count": null,
      "outputs": [
        {
          "output_type": "stream",
          "name": "stdout",
          "text": [
            "[34, 35.33, 353, 356]\n",
            "['34' '35.33' '353' '356']\n",
            "[ 34  35 353 356]\n"
          ]
        }
      ]
    },
    {
      "cell_type": "code",
      "metadata": {
        "colab": {
          "base_uri": "https://localhost:8080/"
        },
        "id": "6vuO6ib7XjBs",
        "outputId": "c077d812-e48a-4356-f267-85b9c072b8d0"
      },
      "source": [
        "# creation of numpy array \n",
        "a=[3]\n",
        "a=np.array(a*4)\n",
        "print(a)"
      ],
      "execution_count": null,
      "outputs": [
        {
          "output_type": "stream",
          "name": "stdout",
          "text": [
            "[3 3 3 3]\n"
          ]
        }
      ]
    },
    {
      "cell_type": "markdown",
      "metadata": {
        "id": "W_4QHwXfZMtF"
      },
      "source": [
        "np.ones()\n",
        "np.zeros()\n",
        "this requires 2 arguments \n",
        "1 st one is size we are required and\n",
        "the second is data type that is optional\n"
      ]
    },
    {
      "cell_type": "code",
      "metadata": {
        "colab": {
          "base_uri": "https://localhost:8080/"
        },
        "id": "QYQ_3hJQZBk0",
        "outputId": "d500fcb3-dd29-4e32-e68c-3f35ffeea2e3"
      },
      "source": [
        "a=np.ones(4)\n",
        "print(a)\n",
        "b=np.zeros(4,dtype=float)\n",
        "c=np.zeros(7,float)\n",
        "# dtype is optional\n",
        "\n",
        "print(c)"
      ],
      "execution_count": null,
      "outputs": [
        {
          "output_type": "stream",
          "name": "stdout",
          "text": [
            "[1. 1. 1. 1.]\n",
            "[0. 0. 0. 0. 0. 0. 0.]\n"
          ]
        }
      ]
    },
    {
      "cell_type": "markdown",
      "metadata": {
        "id": "ynbRhC9fZwt7"
      },
      "source": [
        "CREATION OF 2D ARRAYS\n",
        "we need to pass (x,y) in the size argument of the np.zeros or np.ones"
      ]
    },
    {
      "cell_type": "code",
      "metadata": {
        "colab": {
          "base_uri": "https://localhost:8080/"
        },
        "id": "IH4kuBaiZa9I",
        "outputId": "bd3f6a11-307f-4a74-a06a-ad1a1e457911"
      },
      "source": [
        "b=np.zeros((4,3),int)\n",
        "# (4,3) is size of the array we are wanting\n",
        "# int is the data type \n",
        "# dtype is optional\n",
        "print(b)"
      ],
      "execution_count": null,
      "outputs": [
        {
          "output_type": "stream",
          "name": "stdout",
          "text": [
            "[[0 0 0]\n",
            " [0 0 0]\n",
            " [0 0 0]\n",
            " [0 0 0]]\n"
          ]
        }
      ]
    },
    {
      "cell_type": "markdown",
      "metadata": {
        "id": "7kGdyJnrarKl"
      },
      "source": [
        "full() needs 2 arguments \n",
        "1st one is the size and \n",
        "second is thing which we wanted to fill the array"
      ]
    },
    {
      "cell_type": "code",
      "metadata": {
        "colab": {
          "base_uri": "https://localhost:8080/"
        },
        "id": "Vt1ooezXZ6vk",
        "outputId": "68ddba4a-be81-47c9-e133-3bc3cf77eb20"
      },
      "source": [
        "a=np.full(5,3)\n",
        "print(a)\n",
        "b=np.full((5,5),6,str)\n",
        "print(b)"
      ],
      "execution_count": null,
      "outputs": [
        {
          "output_type": "stream",
          "name": "stdout",
          "text": [
            "[3 3 3 3 3]\n",
            "[['6' '6' '6' '6' '6']\n",
            " ['6' '6' '6' '6' '6']\n",
            " ['6' '6' '6' '6' '6']\n",
            " ['6' '6' '6' '6' '6']\n",
            " ['6' '6' '6' '6' '6']]\n"
          ]
        }
      ]
    },
    {
      "cell_type": "markdown",
      "metadata": {
        "id": "0sbyMkC4ekcM"
      },
      "source": [
        "0D\n",
        "1D\n",
        "2D\n",
        "3D"
      ]
    },
    {
      "cell_type": "code",
      "metadata": {
        "id": "ujrYjY7TeqGk"
      },
      "source": [
        "\n",
        "# OD ARRAY\n",
        "arr = np.array(42)\n",
        "\n",
        "# 1D ARRAY\n",
        "arr = np.array([1, 2, 3, 4, 5])\n",
        "\n",
        "# 2D ARRAY\n",
        "arr = np.array([[1, 2, 3], [4, 5, 6]])\n",
        "\n",
        "# 3D ARRAY\n",
        "arr = np.array([[[1, 2, 3], [4, 5, 6]], [[1, 2, 3], [4, 5, 6]]])"
      ],
      "execution_count": null,
      "outputs": []
    },
    {
      "cell_type": "markdown",
      "metadata": {
        "id": "JWqYEhjafykE"
      },
      "source": [
        "INDEXING IN NUMPY ARRAYS"
      ]
    },
    {
      "cell_type": "code",
      "metadata": {
        "colab": {
          "base_uri": "https://localhost:8080/"
        },
        "id": "cNOAcpCXf1Cx",
        "outputId": "386c15fe-5660-4a93-973d-e471d404fda1"
      },
      "source": [
        "a=np.array([23,3,34,3,53,3346,46,4543])\n",
        "# we can get the size of the array\n",
        "print(a.size)\n",
        "\n",
        "\n",
        "sizeOfArray=a.size\n",
        "\n",
        "\n",
        "index_sum=0\n",
        "# accessing of elements through index\n",
        "for i in range(sizeOfArray):\n",
        "  index_sum+=a[i]\n",
        "print(\"index_sum\",index_sum)  \n",
        "\n",
        "\n",
        "\n",
        "sum=0\n",
        "# accessing of elements through in\n",
        "for i in a:\n",
        "  sum +=i\n",
        "print(\"sum\",sum)  \n"
      ],
      "execution_count": null,
      "outputs": [
        {
          "output_type": "stream",
          "name": "stdout",
          "text": [
            "8\n",
            "index_sum 8051\n",
            "sum 8051\n"
          ]
        }
      ]
    },
    {
      "cell_type": "markdown",
      "metadata": {
        "id": "4M0RrD2Ai7oE"
      },
      "source": [
        "accessing the elements through indexing(negative and possitive)\n"
      ]
    },
    {
      "cell_type": "code",
      "metadata": {
        "colab": {
          "base_uri": "https://localhost:8080/"
        },
        "id": "bVtZKS5fgIPv",
        "outputId": "344bd51b-d335-4c94-cc9f-7c01b3ff7739"
      },
      "source": [
        "arr = np.array([[[1, 2, 3], [4, 5, 6]], [[1, 2, 3], [4, 5, 6]]])\n",
        "print(arr[1,1,1])\n",
        "print(arr[1,1,-1])"
      ],
      "execution_count": null,
      "outputs": [
        {
          "output_type": "stream",
          "name": "stdout",
          "text": [
            "5\n",
            "6\n"
          ]
        }
      ]
    },
    {
      "cell_type": "markdown",
      "metadata": {
        "id": "pNiOZiDzj4Wt"
      },
      "source": [
        "SLICING OF NUMPY ARRAYS\n"
      ]
    },
    {
      "cell_type": "code",
      "metadata": {
        "colab": {
          "base_uri": "https://localhost:8080/"
        },
        "id": "guMTfT1vivQf",
        "outputId": "83b28748-3683-4f26-e027-5561fa6c4744"
      },
      "source": [
        "a=np.array([3,3,534,35,34,345,35,343,343,3,365,64])\n",
        "print(a[:a.size:2])"
      ],
      "execution_count": null,
      "outputs": [
        {
          "output_type": "stream",
          "name": "stdout",
          "text": [
            "[  3 534  34  35 343 365]\n"
          ]
        }
      ]
    },
    {
      "cell_type": "markdown",
      "metadata": {
        "id": "4kPYQ3JOlBoK"
      },
      "source": [
        "The Difference Between Copy and View\n",
        "The main difference between a copy and a view of an array is that the copy is a new array, and the view is just a view of the original array.\n",
        "\n",
        "The copy owns the data and any changes made to the copy will not affect original array, and any changes made to the original array will not affect the copy.\n",
        "\n",
        "The view does not own the data and any changes made to the view will affect the original array, and any changes made to the original array will affect the view.\n"
      ]
    },
    {
      "cell_type": "code",
      "metadata": {
        "colab": {
          "base_uri": "https://localhost:8080/"
        },
        "id": "IhZ9QEpNkFWo",
        "outputId": "4a7ed368-91bf-4097-993f-235c1b7bc5f1"
      },
      "source": [
        "a=np.zeros(5)\n",
        "b=a.view()\n",
        "c=a.copy()\n",
        "\n",
        "# if we view the array the changes done in the prev array will be reflected to the viewed array\n",
        "# if we copy the array the changes done in the prev array will not be reflected to the copied array\n",
        "a[2]=343\n",
        "\n",
        "print(a)\n",
        "print(b)\n",
        "print(c)\n"
      ],
      "execution_count": null,
      "outputs": [
        {
          "output_type": "stream",
          "name": "stdout",
          "text": [
            "[  0.   0. 343.   0.   0.]\n",
            "[  0.   0. 343.   0.   0.]\n",
            "[0. 0. 0. 0. 0.]\n"
          ]
        }
      ]
    },
    {
      "cell_type": "markdown",
      "metadata": {
        "id": "TL0Iu0eNobmj"
      },
      "source": [
        "SHAPE OF THE ARRAY\n",
        "\n",
        "SHAPE WILL RETURN THE SHAPE(SIZE OF X AND SIZE OF Y) OF THE ARRAY"
      ]
    },
    {
      "cell_type": "code",
      "metadata": {
        "colab": {
          "base_uri": "https://localhost:8080/"
        },
        "id": "qEx7zwaJnhWt",
        "outputId": "660513b0-49a9-48b9-8250-6a95362a2b74"
      },
      "source": [
        "arr = np.array([[1, 2, 3, 4], [5, 6, 7, 8]])\n",
        "\n",
        "print(arr.shape)"
      ],
      "execution_count": null,
      "outputs": [
        {
          "output_type": "stream",
          "name": "stdout",
          "text": [
            "(2, 4)\n"
          ]
        }
      ]
    },
    {
      "cell_type": "markdown",
      "metadata": {
        "id": "jGH4JYg5o40O"
      },
      "source": [
        "RESHAPE()\n",
        "\n",
        "WE CAN RESHAPE THE 1D ARRAY TO 2D ARRAY BY USING THE RESHAPE()"
      ]
    },
    {
      "cell_type": "code",
      "metadata": {
        "colab": {
          "base_uri": "https://localhost:8080/"
        },
        "id": "HxgTD8XVpH-D",
        "outputId": "64db3ea5-f9bf-4cf0-afc3-f089f690b14e"
      },
      "source": [
        "a=np.array([1,2,3,4,5,6,7,8,9])\n",
        "b=a.reshape(3,3)\n",
        "print(a)\n",
        "print(b)"
      ],
      "execution_count": null,
      "outputs": [
        {
          "output_type": "stream",
          "name": "stdout",
          "text": [
            "[1 2 3 4 5 6 7 8 9]\n",
            "[[1 2 3]\n",
            " [4 5 6]\n",
            " [7 8 9]]\n"
          ]
        }
      ]
    },
    {
      "cell_type": "markdown",
      "metadata": {
        "id": "MPYKt68ep0Qy"
      },
      "source": [
        "ITTERATING 2D ARRAYS"
      ]
    },
    {
      "cell_type": "code",
      "metadata": {
        "colab": {
          "base_uri": "https://localhost:8080/"
        },
        "id": "TNsGkcP1pUuz",
        "outputId": "0d60f3df-36f4-437e-dbdd-722529f0d05a"
      },
      "source": [
        "arr = np.array([[1, 2, 3], [4, 5, 6]])\n",
        "for i in arr:\n",
        "  for j in i:\n",
        "    # we can print the each element in 2d array\n",
        "    print(j)\n",
        "    \n",
        "for i in arr:\n",
        "  # we can print the single dimension array of 2d array\n",
        "  print(i)    "
      ],
      "execution_count": null,
      "outputs": [
        {
          "output_type": "stream",
          "name": "stdout",
          "text": [
            "1\n",
            "2\n",
            "3\n",
            "4\n",
            "5\n",
            "6\n",
            "[1 2 3]\n",
            "[4 5 6]\n"
          ]
        }
      ]
    },
    {
      "cell_type": "code",
      "metadata": {
        "id": "k-x3dLYKp-8i"
      },
      "source": [
        ""
      ],
      "execution_count": null,
      "outputs": []
    }
  ]
}