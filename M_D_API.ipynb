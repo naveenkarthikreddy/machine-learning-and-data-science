{
  "nbformat": 4,
  "nbformat_minor": 0,
  "metadata": {
    "colab": {
      "name": "M_D_API.ipynb",
      "provenance": [],
      "authorship_tag": "ABX9TyPGakgbwRyJds9UYtkQZWQm",
      "include_colab_link": true
    },
    "kernelspec": {
      "name": "python3",
      "display_name": "Python 3"
    },
    "language_info": {
      "name": "python"
    }
  },
  "cells": [
    {
      "cell_type": "markdown",
      "metadata": {
        "id": "view-in-github",
        "colab_type": "text"
      },
      "source": [
        "<a href=\"https://colab.research.google.com/github/tireless-22/machine-learning-and-data-science/blob/main/M_D_API.ipynb\" target=\"_parent\"><img src=\"https://colab.research.google.com/assets/colab-badge.svg\" alt=\"Open In Colab\"/></a>"
      ]
    },
    {
      "cell_type": "markdown",
      "metadata": {
        "id": "DMa4cP2CAuUa"
      },
      "source": [
        "**OPERATIONS**\n",
        "\n",
        "ACCESS\n",
        "\n",
        "REQUEST\n",
        "\n",
        "--METHODS \n",
        "\n",
        "--PARAMETERS\n",
        "\n",
        "RESPONSE\n"
      ]
    },
    {
      "cell_type": "markdown",
      "metadata": {
        "id": "xeGIwKQ-BIEK"
      },
      "source": [
        "GET -- READ\n",
        "\n",
        "POST--WRITE\n"
      ]
    },
    {
      "cell_type": "markdown",
      "metadata": {
        "id": "33BRj5EcDfy5"
      },
      "source": [
        "HTTP LIBRARIES\n",
        "\n",
        "httplilb\n",
        "\n",
        "urllib\n",
        "\n",
        "requests\n"
      ]
    },
    {
      "cell_type": "markdown",
      "metadata": {
        "id": "LjzeGh_oEScS"
      },
      "source": [
        "**requests library**\n",
        "\n",
        "it is an http library library written in python\n",
        "\n",
        "it allows us to send http requests using our python code and we can access the response also\n",
        "\n"
      ]
    },
    {
      "cell_type": "markdown",
      "metadata": {
        "id": "uS72rdc1FV7O"
      },
      "source": [
        "**Response object attributes**\n",
        "\n",
        "status code \n",
        "\n",
        "--200-successful\n",
        "\n",
        "--404-fail\n",
        "\n",
        "encoding\n",
        "\n",
        "url\n",
        "\n",
        "text\n",
        "\n",
        "headers\n",
        "\n"
      ]
    },
    {
      "cell_type": "code",
      "metadata": {
        "colab": {
          "base_uri": "https://localhost:8080/"
        },
        "id": "wMFMX1Uf_0Wo",
        "outputId": "97814c14-f66c-4f40-d236-930464eb6bf1"
      },
      "source": [
        "import requests\n",
        "# https://codingninjas.in/api/v3/courses\n",
        "response=requests.get(\"https://codingninjas.in/api/v3/courses\")\n",
        "# print(response.status_code)\n",
        "response_text=response.text\n",
        "# print(response_text)\n",
        "response_headers=response.headers\n",
        "# headers are in dictonary format\n",
        "# print(response_headers)\n",
        "\n",
        "print(response_headers['Date'])\n",
        "print(response_headers['Content-type'])\n"
      ],
      "execution_count": 15,
      "outputs": [
        {
          "output_type": "stream",
          "name": "stdout",
          "text": [
            "Wed, 06 Oct 2021 06:00:20 GMT\n",
            "application/json\n"
          ]
        }
      ]
    },
    {
      "cell_type": "markdown",
      "metadata": {
        "id": "NEf5Gz_tIaT-"
      },
      "source": [
        "**file formats**\n",
        "\n",
        "xml(very old)\n",
        "\n",
        "json(new)--javascript object notation\n",
        "\n",
        "--json data is in key and value pairs"
      ]
    },
    {
      "cell_type": "markdown",
      "metadata": {
        "id": "aCgTVxKaJk9m"
      },
      "source": [
        "**JSON DATA TYPES**\n",
        "\n",
        "PRIMITIVE DATA TYPES:\n",
        "\n",
        "---numbers\n",
        "\n",
        "---string\n",
        "\n",
        "---boolean\n",
        "\n",
        "---null\n",
        "\n",
        "COMPLEX DATA TYPES\n",
        "\n",
        "---array\n",
        "\n",
        "---object\n",
        "\n",
        "\n"
      ]
    },
    {
      "cell_type": "markdown",
      "metadata": {
        "id": "NXTho1bKLu8Q"
      },
      "source": [
        "**JSON TO PYTHON**\n",
        "\n",
        "it will be very helpful if we convert the json data into python\n",
        "\n",
        "it will be very usefull to use that data in python\n",
        "\n",
        "\n"
      ]
    },
    {
      "cell_type": "markdown",
      "metadata": {
        "id": "xLMR5XlvMAQs"
      },
      "source": [
        "JSON        ----     PYTHON\n",
        "\n",
        "Object  --- dict\n",
        "\n",
        "number ---- int ,float\n",
        "\n",
        "boolean --- boolean\n",
        "\n",
        "string ---- str\n",
        "\n",
        "array --- list ,tuple \n",
        "\n",
        "null ---- None\n"
      ]
    },
    {
      "cell_type": "code",
      "metadata": {
        "colab": {
          "base_uri": "https://localhost:8080/"
        },
        "id": "dZ3H7X4A_6ui",
        "outputId": "d7f1f00d-d65c-4e44-f822-31e3cefbaa77"
      },
      "source": [
        "# json.loads(jsonData)\n",
        "# this will convert the json data to python\n",
        "import json\n",
        "#json data is of type string that is why we are keeping that in quotes\n",
        "json_data='{\"name\":\"karthik\"}'\n",
        "studentInfo=json.loads(json_data)\n",
        "print(studentInfo)\n",
        "print(type(studentInfo))\n",
        "print(studentInfo['name'])\n",
        "\n"
      ],
      "execution_count": 19,
      "outputs": [
        {
          "output_type": "stream",
          "name": "stdout",
          "text": [
            "{'name': 'karthik'}\n",
            "<class 'dict'>\n",
            "karthik\n"
          ]
        }
      ]
    },
    {
      "cell_type": "code",
      "metadata": {
        "colab": {
          "base_uri": "https://localhost:8080/"
        },
        "id": "rjoMDYauNNaT",
        "outputId": "a5b44257-4e91-4f8b-95c5-d40ae4fd4c22"
      },
      "source": [
        "import json\n",
        "python_data=json.loads(response_text)\n",
        "# print(python_data)\n",
        "courses=python_data['data']['courses']\n",
        "print(courses)\n",
        "for i in courses:\n",
        "  print(i['title'])"
      ],
      "execution_count": 25,
      "outputs": [
        {
          "output_type": "stream",
          "name": "stdout",
          "text": [
            "[{'id': 16, 'title': 'Competitive Programmer', 'online_title': 'online-competitive-programming-track', 'offline_title': '', 'name': 'Ninja Competitive Programmer Track', 'level': 'Career Tracks', 'brief_intro': 'Competitive Track', 'preview_image_url': 'https://files.codingninjas.in/0000000000001177.png', 'available_online': True, 'available_offline': False, 'is_career_track': True, 'course_group_id': 3, 'classroom_icon_url': 'https://files.codingninjas.in/0000000000003775.png'}, {'id': 73, 'title': 'System Design Course', 'online_title': 'system-design-course', 'offline_title': '', 'name': 'System Design Course', 'level': 'Foundation Courses', 'brief_intro': 'Brief Intro', 'preview_image_url': 'https://ninjasfiles.s3.amazonaws.com/0000000000001178.png', 'available_online': True, 'available_offline': False, 'is_career_track': False, 'course_group_id': 1, 'classroom_icon_url': 'https://files.codingninjas.com/system-design-icon-11401.svg'}, {'id': 6, 'title': 'Machine Learning', 'online_title': 'online-machine-learning-course', 'offline_title': 'classroom-machine-learning-course', 'name': 'Machine Learning & Deep Learning Course', 'level': 'Advanced Courses', 'brief_intro': 'Machine learning engineers build, implement, and maintain machine learning systems in technology products.', 'preview_image_url': 'https://ninjasfiles.s3.amazonaws.com/0000000000001181.png', 'available_online': True, 'available_offline': False, 'is_career_track': False, 'course_group_id': 2, 'classroom_icon_url': 'https://files.codingninjas.in/0000000000003766.png'}, {'id': 34, 'title': 'Front End (React)', 'online_title': 'online-web-dev-with-react', 'offline_title': '', 'name': 'Advanced  Front-End Web Development with React', 'level': 'Development Courses', 'brief_intro': 'Advanced  Front-End Web Development with React', 'preview_image_url': 'https://ninjasfiles.s3.amazonaws.com/0000000000001179.png', 'available_online': True, 'available_offline': False, 'is_career_track': False, 'course_group_id': 2, 'classroom_icon_url': 'https://files.codingninjas.in/0000000000003769.png'}, {'id': 42, 'title': 'Premium Web Dev Course', 'online_title': 'premium-full-stack-web-development-course', 'offline_title': '', 'name': 'Premium Full Stack Web Development', 'level': 'Foundation Courses', 'brief_intro': '', 'preview_image_url': '', 'available_online': True, 'available_offline': False, 'is_career_track': False, 'course_group_id': 7, 'classroom_icon_url': 'https://files.codingninjas.in/0000000000003765.png'}, {'id': 44, 'title': 'Premium Machine Learning Course', 'online_title': 'premium-machine-learning-course', 'offline_title': '', 'name': 'Premium Machine Learning Course', 'level': 'Foundation Courses', 'brief_intro': '', 'preview_image_url': '', 'available_online': True, 'available_offline': False, 'is_career_track': False, 'course_group_id': 7, 'classroom_icon_url': 'https://files.codingninjas.in/0000000000003765.png'}, {'id': 41, 'title': 'Premium Competitive Course', 'online_title': 'premium-competitive-course', 'offline_title': '', 'name': 'Premium Competitive Programming Course', 'level': 'Foundation Courses', 'brief_intro': '', 'preview_image_url': '', 'available_online': True, 'available_offline': False, 'is_career_track': False, 'course_group_id': 7, 'classroom_icon_url': 'https://files.codingninjas.in/0000000000003765.png'}, {'id': 40, 'title': 'Data structures and Algorithms [C++/Java/Python]', 'online_title': 'premium-foundation-course', 'offline_title': '', 'name': 'Premium Data structures and Algorithms [C++/Java/Python]', 'level': 'Foundation Courses', 'brief_intro': '', 'preview_image_url': '', 'available_online': True, 'available_offline': False, 'is_career_track': False, 'course_group_id': 7, 'classroom_icon_url': 'https://files.codingninjas.in/0000000000003765.png'}, {'id': 43, 'title': 'Premium Data Science Course', 'online_title': 'premium-data-science-course', 'offline_title': '', 'name': 'Premium Data Science Course', 'level': 'Foundation Courses', 'brief_intro': '', 'preview_image_url': '', 'available_online': True, 'available_offline': False, 'is_career_track': False, 'course_group_id': 7, 'classroom_icon_url': 'https://files.codingninjas.in/0000000000003765.png'}, {'id': 45, 'title': 'Premium Android Course', 'online_title': 'premium-android-app-development-course', 'offline_title': '', 'name': 'Premium Android App Development', 'level': 'Foundation Courses', 'brief_intro': '', 'preview_image_url': '', 'available_online': True, 'available_offline': False, 'is_career_track': False, 'course_group_id': 7, 'classroom_icon_url': 'https://files.codingninjas.in/0000000000003765.png'}, {'id': 1, 'title': 'C++ & Data Structures', 'online_title': 'onlline-c-plus-plus-course', 'offline_title': 'classroom-c-plus-plus-course', 'name': 'C++ Foundation with Data Structures', 'level': 'Foundation Courses', 'brief_intro': 'Brief Intro', 'preview_image_url': 'https://files.codingninjas.in/0000000000001176.png', 'available_online': True, 'available_offline': False, 'is_career_track': False, 'course_group_id': 1, 'classroom_icon_url': 'https://files.codingninjas.in/0000000000003771.png'}, {'id': 12, 'title': 'Web Dev (Full Stack)', 'online_title': 'online-full-stack-node-js-web-dev-course', 'offline_title': '', 'name': 'Full Stack Web Development', 'level': 'Development Courses', 'brief_intro': 'Web Development', 'preview_image_url': 'https://ninjasfiles.s3.amazonaws.com/0000000000001179.png', 'available_online': True, 'available_offline': False, 'is_career_track': False, 'course_group_id': 2, 'classroom_icon_url': 'https://files.codingninjas.in/0000000000003764.png'}, {'id': 2, 'title': 'Java & Data Structures', 'online_title': 'online-java-course', 'offline_title': 'classroom-java-course', 'name': 'JAVA Foundation with Data Structures', 'level': 'Foundation Courses', 'brief_intro': 'Brief Intro', 'preview_image_url': 'https://ninjasfiles.s3.amazonaws.com/0000000000001255.png', 'available_online': True, 'available_offline': False, 'is_career_track': False, 'course_group_id': 1, 'classroom_icon_url': 'https://files.codingninjas.in/0000000000003772.png'}, {'id': 35, 'title': 'Android Developer', 'online_title': 'online-android-development-career-track', 'offline_title': '', 'name': 'Ninja Android Developer Career Track ', 'level': 'Career Tracks', 'brief_intro': 'beginner to pro Android Developer!', 'preview_image_url': 'https://ninjasfiles.s3.amazonaws.com/0000000000001175.png', 'available_online': True, 'available_offline': False, 'is_career_track': True, 'course_group_id': 3, 'classroom_icon_url': 'https://files.codingninjas.in/0000000000003774.png'}, {'id': 13, 'title': 'Data Science', 'online_title': 'online-data-science-course', 'offline_title': '', 'name': 'Data Science & Machine Learning Complete', 'level': 'Advanced Courses', 'brief_intro': 'Brief Intro', 'preview_image_url': 'https://ninjasfiles.s3.amazonaws.com/0000000000001371.png', 'available_online': True, 'available_offline': False, 'is_career_track': False, 'course_group_id': 2, 'classroom_icon_url': 'https://files.codingninjas.in/0000000000003763.png'}, {'id': 66, 'title': 'Grokking the Operating Systems Interview', 'online_title': 'operating-system', 'offline_title': '', 'name': 'Grokking the Operating Systems Interview', 'level': 'Foundation Courses', 'brief_intro': 'Brief Intro', 'preview_image_url': 'https://ninjasfiles.s3.amazonaws.com/0000000000001178.png', 'available_online': True, 'available_offline': False, 'is_career_track': False, 'course_group_id': 1, 'classroom_icon_url': 'https://files.codingninjas.in/ubuntu-brands-10404.png'}, {'id': 36, 'title': 'Python & Web Dev (MERN)', 'online_title': 'ninja-web-developer-career-track-mern-stack', 'offline_title': '', 'name': 'Ninja  Web Developer Career Track - NodeJS & ReactJs', 'level': 'Career Tracks', 'brief_intro': 'Programming foundation + MERN Stack Web Development complete Career Track', 'preview_image_url': 'https://ninjasfiles.s3.amazonaws.com/0000000000001179.png', 'available_online': True, 'available_offline': False, 'is_career_track': True, 'course_group_id': 3, 'classroom_icon_url': 'https://files.codingninjas.in/0000000000003777.png'}, {'id': 4, 'title': 'Interview Preparation', 'online_title': 'online-interview-preparation', 'offline_title': 'classroom-interview-preparation', 'name': 'Interview Preparation Course', 'level': 'Advanced Courses', 'brief_intro': 'Brief Intro', 'preview_image_url': 'https://ninjasfiles.s3.amazonaws.com/0000000000001178.png', 'available_online': True, 'available_offline': False, 'is_career_track': False, 'course_group_id': 1, 'classroom_icon_url': 'https://files.codingninjas.in/0000000000003765.png'}, {'id': 17, 'title': 'C++ & Web Dev (Node.js)', 'online_title': 'web-developer-career-track', 'offline_title': '', 'name': 'Ninja  Web Developer Career Track - NodeJS', 'level': 'Career Tracks', 'brief_intro': 'Programming foundation + Full Stack Web Development Career Track', 'preview_image_url': 'https://ninjasfiles.s3.amazonaws.com/0000000000001179.png', 'available_online': True, 'available_offline': False, 'is_career_track': True, 'course_group_id': 3, 'classroom_icon_url': 'https://files.codingninjas.in/0000000000003777.png'}, {'id': 10, 'title': 'Competitive Programming', 'online_title': 'online-competitive-programming-course', 'offline_title': '', 'name': 'Competitive Programming Course', 'level': 'Advanced Courses', 'brief_intro': 'Eminence', 'preview_image_url': 'https://ninjasfiles.s3.amazonaws.com/0000000000001177.png', 'available_online': True, 'available_offline': False, 'is_career_track': False, 'course_group_id': 1, 'classroom_icon_url': 'https://files.codingninjas.in/0000000000003762.png'}, {'id': 11, 'title': 'Python & Data Structures', 'online_title': 'online-python-course', 'offline_title': 'offline-python-course', 'name': 'Python Foundation with Data Structures', 'level': 'Foundation Courses', 'brief_intro': 'Python Foundation', 'preview_image_url': 'https://ninjasfiles.s3.amazonaws.com/0000000000001282.png', 'available_online': True, 'available_offline': False, 'is_career_track': False, 'course_group_id': 1, 'classroom_icon_url': 'https://files.codingninjas.in/0000000000003773.png'}, {'id': 18, 'title': 'Data Scientist', 'online_title': 'data-Scientist-career-track', 'offline_title': '', 'name': 'Ninja Data Scientist Career Track', 'level': 'Career Tracks', 'brief_intro': 'Programming foundation + Data Science with ML career track', 'preview_image_url': 'https://ninjasfiles.s3.amazonaws.com/0000000000001371.png', 'available_online': True, 'available_offline': False, 'is_career_track': True, 'course_group_id': 3, 'classroom_icon_url': 'https://files.codingninjas.in/0000000000003778.png'}, {'id': 33, 'title': 'Android (Kotlin)', 'online_title': 'online-android-Development-kotlin', 'offline_title': '', 'name': 'Android Development with Kotlin', 'level': 'Development Courses', 'brief_intro': 'Android Development Kotlin', 'preview_image_url': 'https://ninjasfiles.s3.amazonaws.com/0000000000001175.png', 'available_online': True, 'available_offline': False, 'is_career_track': False, 'course_group_id': 2, 'classroom_icon_url': 'https://files.codingninjas.in/0000000000003761.png'}, {'id': 19, 'title': 'Machine Learning', 'online_title': 'machine-learning-engineer-career-track', 'offline_title': '', 'name': 'Ninja Machine Learning Engineer Career Track', 'level': 'Career Tracks', 'brief_intro': 'Programming foundation + Machine Learning career track', 'preview_image_url': 'https://ninjasfiles.s3.amazonaws.com/0000000000001181.png', 'available_online': True, 'available_offline': False, 'is_career_track': True, 'course_group_id': 3, 'classroom_icon_url': 'https://files.codingninjas.in/0000000000003776.png'}, {'id': 21, 'title': 'Aptitude Preparation', 'online_title': 'online-aptitude-preparation', 'offline_title': '', 'name': 'Aptitude Preparation Course', 'level': 'Foundation Courses', 'brief_intro': 'Brief Intro', 'preview_image_url': 'https://ninjasfiles.s3.amazonaws.com/0000000000001178.png', 'available_online': True, 'available_offline': False, 'is_career_track': False, 'course_group_id': 1, 'classroom_icon_url': 'https://files.codingninjas.in/0000000000003770.png'}]\n",
            "Competitive Programmer\n",
            "System Design Course\n",
            "Machine Learning\n",
            "Front End (React)\n",
            "Premium Web Dev Course\n",
            "Premium Machine Learning Course\n",
            "Premium Competitive Course\n",
            "Data structures and Algorithms [C++/Java/Python]\n",
            "Premium Data Science Course\n",
            "Premium Android Course\n",
            "C++ & Data Structures\n",
            "Web Dev (Full Stack)\n",
            "Java & Data Structures\n",
            "Android Developer\n",
            "Data Science\n",
            "Grokking the Operating Systems Interview\n",
            "Python & Web Dev (MERN)\n",
            "Interview Preparation\n",
            "C++ & Web Dev (Node.js)\n",
            "Competitive Programming\n",
            "Python & Data Structures\n",
            "Data Scientist\n",
            "Android (Kotlin)\n",
            "Machine Learning\n",
            "Aptitude Preparation\n"
          ]
        }
      ]
    },
    {
      "cell_type": "code",
      "metadata": {
        "colab": {
          "base_uri": "https://localhost:8080/"
        },
        "id": "e6lPzjmOQmbS",
        "outputId": "c49b45d3-2223-47d1-c7e0-f5f7810b3785"
      },
      "source": [
        "import requests\n",
        "import json\n",
        "dog_data=requests.get(\"https://dog.ceo/api/breeds/list/all\")\n",
        "dog_txt=dog_data.text\n",
        "# print(dog_txt)\n",
        "# this in the form json format, lets convert this to python\n",
        "\n",
        "python_dog_data=json.loads(dog_txt)\n",
        "print(python_dog_data)\n",
        "hound_data=python_dog_data['message']['hound']\n",
        "print(hound_data)"
      ],
      "execution_count": 35,
      "outputs": [
        {
          "output_type": "stream",
          "name": "stdout",
          "text": [
            "{'message': {'affenpinscher': [], 'african': [], 'airedale': [], 'akita': [], 'appenzeller': [], 'australian': ['shepherd'], 'basenji': [], 'beagle': [], 'bluetick': [], 'borzoi': [], 'bouvier': [], 'boxer': [], 'brabancon': [], 'briard': [], 'buhund': ['norwegian'], 'bulldog': ['boston', 'english', 'french'], 'bullterrier': ['staffordshire'], 'cattledog': ['australian'], 'chihuahua': [], 'chow': [], 'clumber': [], 'cockapoo': [], 'collie': ['border'], 'coonhound': [], 'corgi': ['cardigan'], 'cotondetulear': [], 'dachshund': [], 'dalmatian': [], 'dane': ['great'], 'deerhound': ['scottish'], 'dhole': [], 'dingo': [], 'doberman': [], 'elkhound': ['norwegian'], 'entlebucher': [], 'eskimo': [], 'finnish': ['lapphund'], 'frise': ['bichon'], 'germanshepherd': [], 'greyhound': ['italian'], 'groenendael': [], 'havanese': [], 'hound': ['afghan', 'basset', 'blood', 'english', 'ibizan', 'plott', 'walker'], 'husky': [], 'keeshond': [], 'kelpie': [], 'komondor': [], 'kuvasz': [], 'labradoodle': [], 'labrador': [], 'leonberg': [], 'lhasa': [], 'malamute': [], 'malinois': [], 'maltese': [], 'mastiff': ['bull', 'english', 'tibetan'], 'mexicanhairless': [], 'mix': [], 'mountain': ['bernese', 'swiss'], 'newfoundland': [], 'otterhound': [], 'ovcharka': ['caucasian'], 'papillon': [], 'pekinese': [], 'pembroke': [], 'pinscher': ['miniature'], 'pitbull': [], 'pointer': ['german', 'germanlonghair'], 'pomeranian': [], 'poodle': ['miniature', 'standard', 'toy'], 'pug': [], 'puggle': [], 'pyrenees': [], 'redbone': [], 'retriever': ['chesapeake', 'curly', 'flatcoated', 'golden'], 'ridgeback': ['rhodesian'], 'rottweiler': [], 'saluki': [], 'samoyed': [], 'schipperke': [], 'schnauzer': ['giant', 'miniature'], 'setter': ['english', 'gordon', 'irish'], 'sheepdog': ['english', 'shetland'], 'shiba': [], 'shihtzu': [], 'spaniel': ['blenheim', 'brittany', 'cocker', 'irish', 'japanese', 'sussex', 'welsh'], 'springer': ['english'], 'stbernard': [], 'terrier': ['american', 'australian', 'bedlington', 'border', 'cairn', 'dandie', 'fox', 'irish', 'kerryblue', 'lakeland', 'norfolk', 'norwich', 'patterdale', 'russell', 'scottish', 'sealyham', 'silky', 'tibetan', 'toy', 'westhighland', 'wheaten', 'yorkshire'], 'vizsla': [], 'waterdog': ['spanish'], 'weimaraner': [], 'whippet': [], 'wolfhound': ['irish']}, 'status': 'success'}\n",
            "['afghan', 'basset', 'blood', 'english', 'ibizan', 'plott', 'walker']\n"
          ]
        }
      ]
    },
    {
      "cell_type": "code",
      "metadata": {
        "id": "CMfqnW_tR0Sv"
      },
      "source": [
        ""
      ],
      "execution_count": null,
      "outputs": []
    }
  ]
}