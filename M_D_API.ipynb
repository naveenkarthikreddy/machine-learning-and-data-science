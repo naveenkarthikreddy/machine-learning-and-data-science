{
  "nbformat": 4,
  "nbformat_minor": 0,
  "metadata": {
    "colab": {
      "name": "M_D_API.ipynb",
      "provenance": [],
      "authorship_tag": "ABX9TyNC/215EzasX5zXRUkpgoBp",
      "include_colab_link": true
    },
    "kernelspec": {
      "name": "python3",
      "display_name": "Python 3"
    },
    "language_info": {
      "name": "python"
    }
  },
  "cells": [
    {
      "cell_type": "markdown",
      "metadata": {
        "id": "view-in-github",
        "colab_type": "text"
      },
      "source": [
        "<a href=\"https://colab.research.google.com/github/tireless-22/machine-learning-and-data-science/blob/main/M_D_API.ipynb\" target=\"_parent\"><img src=\"https://colab.research.google.com/assets/colab-badge.svg\" alt=\"Open In Colab\"/></a>"
      ]
    },
    {
      "cell_type": "markdown",
      "metadata": {
        "id": "DMa4cP2CAuUa"
      },
      "source": [
        "ACCESS\n",
        "\n",
        "REQUEST\n",
        "\n",
        "--METHODS \n",
        "\n",
        "--PARAMETERS\n",
        "\n",
        "RESPONSE\n"
      ]
    },
    {
      "cell_type": "code",
      "metadata": {
        "colab": {
          "base_uri": "https://localhost:8080/"
        },
        "id": "wMFMX1Uf_0Wo",
        "outputId": "e2827d99-d0ac-4a30-d205-eb1f58d91057"
      },
      "source": [
        "print(\"hello\")"
      ],
      "execution_count": 1,
      "outputs": [
        {
          "output_type": "stream",
          "name": "stdout",
          "text": [
            "hello\n"
          ]
        }
      ]
    },
    {
      "cell_type": "code",
      "metadata": {
        "id": "dZ3H7X4A_6ui"
      },
      "source": [
        ""
      ],
      "execution_count": null,
      "outputs": []
    }
  ]
}