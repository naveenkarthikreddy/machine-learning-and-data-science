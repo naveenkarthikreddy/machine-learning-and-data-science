{
  "nbformat": 4,
  "nbformat_minor": 0,
  "metadata": {
    "colab": {
      "name": "M_D_API.ipynb",
      "provenance": [],
      "authorship_tag": "ABX9TyNuB6H7KVp5Uemgy9aBvQk+",
      "include_colab_link": true
    },
    "kernelspec": {
      "name": "python3",
      "display_name": "Python 3"
    },
    "language_info": {
      "name": "python"
    }
  },
  "cells": [
    {
      "cell_type": "markdown",
      "metadata": {
        "id": "view-in-github",
        "colab_type": "text"
      },
      "source": [
        "<a href=\"https://colab.research.google.com/github/tireless-22/machine-learning-and-data-science/blob/main/M_D_API.ipynb\" target=\"_parent\"><img src=\"https://colab.research.google.com/assets/colab-badge.svg\" alt=\"Open In Colab\"/></a>"
      ]
    },
    {
      "cell_type": "markdown",
      "metadata": {
        "id": "DMa4cP2CAuUa"
      },
      "source": [
        "ACCESS\n",
        "\n",
        "REQUEST\n",
        "\n",
        "--METHODS \n",
        "\n",
        "--PARAMETERS\n",
        "\n",
        "RESPONSE\n"
      ]
    },
    {
      "cell_type": "markdown",
      "metadata": {
        "id": "xeGIwKQ-BIEK"
      },
      "source": [
        "GET -- READ\n",
        "\n",
        "POST--WRITE\n"
      ]
    },
    {
      "cell_type": "markdown",
      "metadata": {
        "id": "33BRj5EcDfy5"
      },
      "source": [
        "HTTP LIBRARIES\n",
        "\n",
        "httplilb\n",
        "\n",
        "urllib\n",
        "\n",
        "requests\n"
      ]
    },
    {
      "cell_type": "markdown",
      "metadata": {
        "id": "LjzeGh_oEScS"
      },
      "source": [
        "**requests library**\n",
        "\n",
        "it is an http library library written in python\n",
        "\n",
        "it allows us to send http requests using our python code and we can access the response also\n",
        "\n"
      ]
    },
    {
      "cell_type": "markdown",
      "metadata": {
        "id": "uS72rdc1FV7O"
      },
      "source": [
        "**Response object attributes**\n",
        "\n",
        "status code \n",
        "\n",
        "--200-successful\n",
        "\n",
        "--404-fail\n",
        "\n",
        "encoding\n",
        "\n",
        "url\n",
        "\n",
        "text\n",
        "\n",
        "headers\n",
        "\n"
      ]
    },
    {
      "cell_type": "code",
      "metadata": {
        "colab": {
          "base_uri": "https://localhost:8080/"
        },
        "id": "wMFMX1Uf_0Wo",
        "outputId": "d4e1ab1e-1a77-4252-a4ac-c0097a0afad0"
      },
      "source": [
        "import requests\n",
        "# https://codingninjas.in/api/v3/courses\n",
        "response=requests.get(\"https://codingninjas.in/api/v3/courses\")\n",
        "# print(response.status_code)\n",
        "response_text=response.text\n",
        "# print(response_text)\n",
        "response_headers=response.headers\n",
        "# headers are in dictonary format\n",
        "# print(response_headers)\n",
        "\n",
        "print(response_headers['Date'])\n",
        "\n"
      ],
      "execution_count": 14,
      "outputs": [
        {
          "output_type": "stream",
          "name": "stdout",
          "text": [
            "Wed, 06 Oct 2021 05:43:27 GMT\n"
          ]
        }
      ]
    },
    {
      "cell_type": "markdown",
      "metadata": {
        "id": "NEf5Gz_tIaT-"
      },
      "source": [
        "**file formats**\n",
        "\n",
        "xml(very old)\n",
        "\n",
        "json(new)--javascript object notation\n",
        "\n",
        "--json data is in key and value pairs"
      ]
    },
    {
      "cell_type": "markdown",
      "metadata": {
        "id": "aCgTVxKaJk9m"
      },
      "source": [
        "**JSON DATA TYPES**\n",
        "\n",
        "PRIMITIVE DATA TYPES:\n",
        "\n",
        "---numbers\n",
        "\n",
        "---string\n",
        "\n",
        "---boolean\n",
        "\n",
        "---null\n",
        "\n",
        "COMPLEX DATA TYPES\n",
        "\n",
        "---array\n",
        "\n",
        "---object\n",
        "\n",
        "\n"
      ]
    },
    {
      "cell_type": "code",
      "metadata": {
        "id": "dZ3H7X4A_6ui"
      },
      "source": [
        ""
      ],
      "execution_count": null,
      "outputs": []
    }
  ]
}