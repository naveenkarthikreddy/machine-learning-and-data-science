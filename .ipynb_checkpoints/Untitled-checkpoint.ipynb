{
 "cells": [
  {
   "cell_type": "code",
   "execution_count": 17,
   "source": [
    "import cv2\r\n",
    "# openCv use as cv2 in python\r\n",
    "# imread(file loaction,0 or 1) will read the file\r\n",
    "# default value will be 1 means color and 0 means black and white or gray scale\r\n",
    "img1=cv2.imread(\"pics/love.jfif\",0)\r\n",
    "\r\n",
    "img1=cv2.resize(img1,(280,70))\r\n",
    "# resize(nameOfTheImage,(width,height)) is useful to resize the image\r\n",
    "\r\n",
    "print(img1)\r\n",
    "# black and white has only single channel so the array is single dimensional array\r\n",
    "# and color has 3 channels so the array is 3*3 array\r\n",
    "# image will consist of pixels,this print a array of rgb values\r\n",
    "\r\n",
    "\r\n",
    "# this code will show the image\r\n",
    "cv2.imshow(\"original\",img1)\r\n",
    "# this two codes are important while opening a file\r\n",
    "cv2.waitKey(2000)\r\n",
    "# waitkey means how much time we want that image on the screen\r\n",
    "# by default the value is 0 means this will be there on your screen untill you remove\r\n",
    "# if you put 2000 means 2000 milliseconds means 2 seconds\r\n",
    "cv2.destroyAllWindows()\r\n"
   ],
   "outputs": [
    {
     "output_type": "stream",
     "name": "stdout",
     "text": [
      "[[190 191 192 ... 126 126 126]\n",
      " [197 195 194 ... 128 128 128]\n",
      " [189 188 186 ... 120 120 120]\n",
      " ...\n",
      " [113 115 118 ...  88  88  88]\n",
      " [115 116 118 ...  88  88  88]\n",
      " [119 118 116 ...  90  90  90]]\n"
     ]
    }
   ],
   "metadata": {}
  },
  {
   "cell_type": "code",
   "execution_count": null,
   "source": [],
   "outputs": [],
   "metadata": {}
  },
  {
   "cell_type": "code",
   "execution_count": null,
   "source": [],
   "outputs": [],
   "metadata": {}
  },
  {
   "cell_type": "code",
   "execution_count": null,
   "source": [],
   "outputs": [],
   "metadata": {}
  },
  {
   "cell_type": "code",
   "execution_count": null,
   "source": [],
   "outputs": [],
   "metadata": {}
  },
  {
   "cell_type": "code",
   "execution_count": null,
   "source": [],
   "outputs": [],
   "metadata": {}
  },
  {
   "cell_type": "code",
   "execution_count": null,
   "source": [],
   "outputs": [],
   "metadata": {}
  },
  {
   "cell_type": "code",
   "execution_count": null,
   "source": [],
   "outputs": [],
   "metadata": {}
  }
 ],
 "metadata": {
  "kernelspec": {
   "display_name": "Python 3 (ipykernel)",
   "language": "python",
   "name": "python3"
  },
  "language_info": {
   "codemirror_mode": {
    "name": "ipython",
    "version": 3
   },
   "file_extension": ".py",
   "mimetype": "text/x-python",
   "name": "python",
   "nbconvert_exporter": "python",
   "pygments_lexer": "ipython3",
   "version": "3.9.5"
  }
 },
 "nbformat": 4,
 "nbformat_minor": 5
}