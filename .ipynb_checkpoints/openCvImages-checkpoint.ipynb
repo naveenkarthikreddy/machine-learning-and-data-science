{
 "cells": [
  {
   "cell_type": "code",
   "execution_count": 17,
   "id": "38eec1e5-82e9-4658-b68c-a5f870bd8b79",
   "metadata": {},
   "outputs": [
    {
     "name": "stdout",
     "output_type": "stream",
     "text": [
      "[[190 191 192 ... 126 126 126]\n",
      " [197 195 194 ... 128 128 128]\n",
      " [189 188 186 ... 120 120 120]\n",
      " ...\n",
      " [113 115 118 ...  88  88  88]\n",
      " [115 116 118 ...  88  88  88]\n",
      " [119 118 116 ...  90  90  90]]\n"
     ]
    }
   ],
   "source": [
    "import cv2\n",
    "# openCv use as cv2 in python\n",
    "# imread(file loaction,0 or 1) will read the file\n",
    "# default value will be 1 means color and 0 means black and white or gray scale\n",
    "img1=cv2.imread(\"pics/love.jfif\",0)\n",
    "\n",
    "img1=cv2.resize(img1,(280,70))\n",
    "# resize(nameOfTheImage,(width,height)) is useful to resize the image\n",
    "\n",
    "print(img1)\n",
    "# black and white has only single channel so the array is single dimensional array\n",
    "# and color has 3 channels so the array is 3*3 array\n",
    "# image will consist of pixels,this print a array of rgb values\n",
    "\n",
    "\n",
    "\n",
    "# this code will show the image\n",
    "cv2.imshow(\"original\",img1)\n",
    "# this two codes are important while opening a file\n",
    "cv2.waitKey(2000)\n",
    "# waitkey means how much time we want that image on the screen\n",
    "# by default the value is 0 means this will be there on your screen untill you remove\n",
    "# if you put 2000 means 2000 milliseconds means 2 seconds\n",
    "cv2.destroyAllWindows()\n"
   ]
  },
  {
   "cell_type": "code",
   "execution_count": null,
   "id": "6ee4f34e-916e-4492-9602-5c34d99eccc4",
   "metadata": {},
   "outputs": [],
   "source": []
  },
  {
   "cell_type": "code",
   "execution_count": null,
   "id": "05d552c1-719a-45da-9431-d7ae96ca5568",
   "metadata": {},
   "outputs": [],
   "source": []
  },
  {
   "cell_type": "code",
   "execution_count": null,
   "id": "6961cb74-b4b5-4ef5-a5ed-dca373df147f",
   "metadata": {},
   "outputs": [],
   "source": []
  },
  {
   "cell_type": "code",
   "execution_count": null,
   "id": "6fc1ff8e-27c4-4d53-9d27-6b903058c9d4",
   "metadata": {},
   "outputs": [],
   "source": []
  },
  {
   "cell_type": "code",
   "execution_count": null,
   "id": "5a3ba81c-9fe3-4b8f-9967-afbdfce61a0d",
   "metadata": {},
   "outputs": [],
   "source": []
  },
  {
   "cell_type": "code",
   "execution_count": null,
   "id": "a4278106-ff9f-4953-af48-0410069cbc45",
   "metadata": {},
   "outputs": [],
   "source": []
  },
  {
   "cell_type": "code",
   "execution_count": null,
   "id": "e11f3529-822d-4e00-94ad-584f01ecb098",
   "metadata": {},
   "outputs": [],
   "source": []
  }
 ],
 "metadata": {
  "kernelspec": {
   "display_name": "Python 3 (ipykernel)",
   "language": "python",
   "name": "python3"
  },
  "language_info": {
   "codemirror_mode": {
    "name": "ipython",
    "version": 3
   },
   "file_extension": ".py",
   "mimetype": "text/x-python",
   "name": "python",
   "nbconvert_exporter": "python",
   "pygments_lexer": "ipython3",
   "version": "3.9.5"
  }
 },
 "nbformat": 4,
 "nbformat_minor": 5
}
