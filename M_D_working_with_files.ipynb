{
  "nbformat": 4,
  "nbformat_minor": 0,
  "metadata": {
    "colab": {
      "name": "M_D_working_with_files.ipynb",
      "provenance": [],
      "authorship_tag": "ABX9TyMihtgOY0F9wJrl31XOU6hF",
      "include_colab_link": true
    },
    "kernelspec": {
      "name": "python3",
      "display_name": "Python 3"
    },
    "language_info": {
      "name": "python"
    }
  },
  "cells": [
    {
      "cell_type": "markdown",
      "metadata": {
        "id": "view-in-github",
        "colab_type": "text"
      },
      "source": [
        "<a href=\"https://colab.research.google.com/github/naveenkarthikreddy/machine-learning-and-data-science/blob/main/M_D_working_with_files.ipynb\" target=\"_parent\"><img src=\"https://colab.research.google.com/assets/colab-badge.svg\" alt=\"Open In Colab\"/></a>"
      ]
    },
    {
      "cell_type": "markdown",
      "metadata": {
        "id": "b_GPO-NywgOP"
      },
      "source": [
        "mainly we work on 2 types of files\n",
        "\n",
        ".csv\n",
        "\n",
        "text files"
      ]
    },
    {
      "cell_type": "code",
      "metadata": {
        "id": "OhgfKZGz8aOp"
      },
      "source": [
        ""
      ],
      "execution_count": null,
      "outputs": []
    },
    {
      "cell_type": "code",
      "metadata": {
        "id": "oavvJqsvwWh0",
        "colab": {
          "base_uri": "https://localhost:8080/"
        },
        "outputId": "588e5a00-484b-4035-e159-9e26ba4a76d5"
      },
      "source": [
        "!pwd\n"
      ],
      "execution_count": null,
      "outputs": [
        {
          "output_type": "stream",
          "name": "stdout",
          "text": [
            "/content\n"
          ]
        }
      ]
    },
    {
      "cell_type": "code",
      "metadata": {
        "id": "EF7SoZ1-8JNx"
      },
      "source": [
        "!mkdir myfiles"
      ],
      "execution_count": null,
      "outputs": []
    },
    {
      "cell_type": "code",
      "metadata": {
        "colab": {
          "base_uri": "https://localhost:8080/"
        },
        "id": "yucc-qed9uRA",
        "outputId": "fbd8d9f5-1bab-41d3-f9e8-bea6bc9b18a1"
      },
      "source": [
        "from google.colab import drive\n",
        "drive.mount('/content/drive/')"
      ],
      "execution_count": null,
      "outputs": [
        {
          "output_type": "stream",
          "name": "stdout",
          "text": [
            "Mounted at /content/drive/\n"
          ]
        }
      ]
    },
    {
      "cell_type": "code",
      "metadata": {
        "colab": {
          "base_uri": "https://localhost:8080/"
        },
        "id": "dk8z6TliAN_9",
        "outputId": "5c25d292-1dcf-4b22-9fcf-ced55bf6c6ad"
      },
      "source": [
        "!pwd\n"
      ],
      "execution_count": null,
      "outputs": [
        {
          "output_type": "stream",
          "name": "stdout",
          "text": [
            "/content\n"
          ]
        }
      ]
    },
    {
      "cell_type": "code",
      "metadata": {
        "id": "ewK5LqzbDu7I",
        "colab": {
          "base_uri": "https://localhost:8080/"
        },
        "outputId": "4a17cf6b-5649-436f-a4de-a9c12b206bce"
      },
      "source": [
        "!pwd"
      ],
      "execution_count": 13,
      "outputs": [
        {
          "output_type": "stream",
          "name": "stdout",
          "text": [
            "/root\n"
          ]
        }
      ]
    },
    {
      "cell_type": "code",
      "metadata": {
        "colab": {
          "base_uri": "https://localhost:8080/"
        },
        "id": "pmoBwC5AKtmN",
        "outputId": "0c295bcb-7954-470b-f0c3-0c832a98416f"
      },
      "source": [
        "cd '/content/myfiles'"
      ],
      "execution_count": 15,
      "outputs": [
        {
          "output_type": "stream",
          "name": "stdout",
          "text": [
            "/content/myfiles\n"
          ]
        }
      ]
    },
    {
      "cell_type": "code",
      "metadata": {
        "colab": {
          "base_uri": "https://localhost:8080/"
        },
        "id": "c865-isfM68b",
        "outputId": "22da048e-e0ee-4637-af12-f668df3651ea"
      },
      "source": [
        "!pwd"
      ],
      "execution_count": 16,
      "outputs": [
        {
          "output_type": "stream",
          "name": "stdout",
          "text": [
            "/content/myfiles\n"
          ]
        }
      ]
    },
    {
      "cell_type": "code",
      "metadata": {
        "colab": {
          "base_uri": "https://localhost:8080/"
        },
        "id": "nQTlt656M9QP",
        "outputId": "7c940e8f-47ab-4743-9605-50ecdec9d197"
      },
      "source": [
        "cd '/content/drive/MyDrive/Colab Notebooks'\n",
        "# copy the path from the file by right clicking the file and copy the path"
      ],
      "execution_count": 17,
      "outputs": [
        {
          "output_type": "stream",
          "name": "stdout",
          "text": [
            "/content/drive/MyDrive/Colab Notebooks\n"
          ]
        }
      ]
    },
    {
      "cell_type": "code",
      "metadata": {
        "colab": {
          "base_uri": "https://localhost:8080/"
        },
        "id": "8WaDBFGRNSgy",
        "outputId": "5ada5e43-d7d3-4d15-f896-40c04276139a"
      },
      "source": [
        "f=open(\"Binary.ipynb\",'r')\n",
        "lines=f.readlines()\n",
        "# reads all the lines\n",
        "\n",
        "linee=f.readline()\n",
        "# reads only one line\n",
        "\n",
        "\n",
        "\n",
        "for line in lines:\n",
        "  print(line)"
      ],
      "execution_count": 42,
      "outputs": [
        {
          "output_type": "stream",
          "name": "stdout",
          "text": [
            "{\"nbformat\":4,\"nbformat_minor\":0,\"metadata\":{\"colab\":{\"name\":\"Binary.ipynb\",\"provenance\":[],\"authorship_tag\":\"ABX9TyMOSXioMCJAKDil1vbgR2L0\"},\"kernelspec\":{\"name\":\"python3\",\"display_name\":\"Python 3\"}},\"cells\":[{\"cell_type\":\"code\",\"metadata\":{\"colab\":{\"base_uri\":\"https://localhost:8080/\"},\"id\":\"xT3mR56ldG3m\",\"executionInfo\":{\"status\":\"ok\",\"timestamp\":1614338695931,\"user_tz\":-330,\"elapsed\":4663,\"user\":{\"displayName\":\"Naveen Karthik\",\"photoUrl\":\"\",\"userId\":\"17489819349135716726\"}},\"outputId\":\"2b15234e-9e8b-41d3-eb7c-c6c5bedbfd0a\"},\"source\":[\"# class Node():\\r\\n\",\"#   def __int__(self,value):\\r\\n\",\"#     self.value=value\\r\\n\",\"#     self.left=None\\r\\n\",\"#     self.right=None\\r\\n\",\"\\r\\n\",\"\\r\\n\",\"class Node:\\r\\n\",\"    # Creating a node\\r\\n\",\"    def __init__(self, value):\\r\\n\",\"        self.value = value\\r\\n\",\"        self.right = None\\r\\n\",\"        self.left=None    \\r\\n\",\"\\r\\n\",\"class BinaryTree():\\r\\n\",\"  def __init__(self,value):\\r\\n\",\"    self.root=Node(value)\\r\\n\",\"\\r\\n\",\"\\r\\n\",\"# it is recursive function having the base condition of none v  \\r\\n\",\"  def preorder(self,start,traversal):\\r\\n\",\"    # left=>Root=>right\\r\\n\",\"    \\r\\n\",\"    # this is called as the base condition\\r\\n\",\"    if start is None:\\r\\n\",\"      return\\r\\n\",\"    traversal.append(start.value)\\r\\n\",\"    self.preorder(start.left,traversal)  \\r\\n\",\"    self.preorder(start.right,traversal)\\r\\n\",\"\\r\\n\",\"    return traversal\\r\\n\",\"\\r\\n\",\"\\r\\n\",\"  def inorder(self,start,traversal):\\r\\n\",\"    # left=>root=>right\\r\\n\",\"    # this is called as the base condition\\r\\n\",\"    if start is None:\\r\\n\",\"      return\\r\\n\",\"    self.inorder(start.left,traversal)  \\r\\n\",\"    traversal.append(start.value)   \\r\\n\",\"    self.inorder(start.right,traversal)\\r\\n\",\"\\r\\n\",\"    return traversal   \\r\\n\",\"\\r\\n\",\"  def postorder(self,start,traversal):\\r\\n\",\"    # left=>right=>root\\r\\n\",\"    # this is called as the base condition\\r\\n\",\"    if start is None:\\r\\n\",\"      return\\r\\n\",\"    self.postorder(start.left,traversal)     \\r\\n\",\"    self.postorder(start.right,traversal)\\r\\n\",\"    traversal.append(start.value) \\r\\n\",\"    return traversal \\r\\n\",\"\\r\\n\",\"\\r\\n\",\"# there is no need of creating a class here we can also \\r\\n\",\"# do it with root=Node(3) simply\\r\\n\",\"# here what we made is created a tree object of binary class\\r\\n\",\"# and we had created the root for that object\\r\\n\",\"# we can create a root with out any need of a obeject of type \\r\\n\",\"# BinaryTree for the purpose of future use\\r\\n\",\"\\r\\n\",\"\\r\\n\",\"tree = BinaryTree(3)\\r\\n\",\"# we had created a root node\\r\\n\",\"# with the left and right value set as None\\r\\n\",\"\\r\\n\",\"tree.root.left=Node(4)\\r\\n\",\"tree.root.left.left=Node(6)\\r\\n\",\"tree.root.left.right=Node(7)\\r\\n\",\"# tree.root=Node(3)\\r\\n\",\"# tree.root.left=Node(3).left\\r\\n\",\"tree.root.right=Node(5)\\r\\n\",\"tree.root.right.left=Node(8)\\r\\n\",\"tree.root.right.right=Node(9)\\r\\n\",\"\\r\\n\",\"print(tree.preorder(tree.root,[]))\\r\\n\",\"print(tree.inorder(tree.root,[]))\\r\\n\",\"print(tree.postorder(tree.root,[]))\\r\\n\",\"\\r\\n\",\"\\r\\n\",\"\\r\\n\"],\"execution_count\":12,\"outputs\":[{\"output_type\":\"stream\",\"text\":[\"[3, 4, 6, 7, 5, 8, 9]\\n\",\"[6, 4, 7, 3, 8, 5, 9]\\n\",\"[6, 7, 4, 8, 9, 5, 3]\\n\"],\"name\":\"stdout\"}]}]}\n"
          ]
        }
      ]
    },
    {
      "cell_type": "code",
      "metadata": {
        "id": "iIfYUF0vSe8k"
      },
      "source": [
        ""
      ],
      "execution_count": null,
      "outputs": []
    }
  ]
}