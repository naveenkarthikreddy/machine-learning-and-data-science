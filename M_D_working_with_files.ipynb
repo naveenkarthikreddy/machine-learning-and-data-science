{
  "nbformat": 4,
  "nbformat_minor": 0,
  "metadata": {
    "colab": {
      "name": "M_D_working_with_files.ipynb",
      "provenance": [],
      "authorship_tag": "ABX9TyPfOC0MX5UrnWC09zVC0B0k",
      "include_colab_link": true
    },
    "kernelspec": {
      "name": "python3",
      "display_name": "Python 3"
    },
    "language_info": {
      "name": "python"
    }
  },
  "cells": [
    {
      "cell_type": "markdown",
      "metadata": {
        "id": "view-in-github",
        "colab_type": "text"
      },
      "source": [
        "<a href=\"https://colab.research.google.com/github/naveenkarthikreddy/machine-learning-and-data-science/blob/main/M_D_working_with_files.ipynb\" target=\"_parent\"><img src=\"https://colab.research.google.com/assets/colab-badge.svg\" alt=\"Open In Colab\"/></a>"
      ]
    },
    {
      "cell_type": "markdown",
      "metadata": {
        "id": "b_GPO-NywgOP"
      },
      "source": [
        "mainly we work on 2 types of files\n",
        "\n",
        ".csv\n",
        "\n",
        "text files"
      ]
    },
    {
      "cell_type": "code",
      "metadata": {
        "id": "OhgfKZGz8aOp"
      },
      "source": [
        ""
      ],
      "execution_count": null,
      "outputs": []
    },
    {
      "cell_type": "code",
      "metadata": {
        "id": "oavvJqsvwWh0",
        "colab": {
          "base_uri": "https://localhost:8080/"
        },
        "outputId": "588e5a00-484b-4035-e159-9e26ba4a76d5"
      },
      "source": [
        "!pwd\n"
      ],
      "execution_count": null,
      "outputs": [
        {
          "output_type": "stream",
          "name": "stdout",
          "text": [
            "/content\n"
          ]
        }
      ]
    },
    {
      "cell_type": "code",
      "metadata": {
        "id": "EF7SoZ1-8JNx"
      },
      "source": [
        "!mkdir myfiles"
      ],
      "execution_count": null,
      "outputs": []
    },
    {
      "cell_type": "code",
      "metadata": {
        "colab": {
          "base_uri": "https://localhost:8080/"
        },
        "id": "yucc-qed9uRA",
        "outputId": "fbd8d9f5-1bab-41d3-f9e8-bea6bc9b18a1"
      },
      "source": [
        "from google.colab import drive\n",
        "drive.mount('/content/drive/')"
      ],
      "execution_count": null,
      "outputs": [
        {
          "output_type": "stream",
          "name": "stdout",
          "text": [
            "Mounted at /content/drive/\n"
          ]
        }
      ]
    },
    {
      "cell_type": "code",
      "metadata": {
        "colab": {
          "base_uri": "https://localhost:8080/"
        },
        "id": "dk8z6TliAN_9",
        "outputId": "5c25d292-1dcf-4b22-9fcf-ced55bf6c6ad"
      },
      "source": [
        "!pwd\n"
      ],
      "execution_count": null,
      "outputs": [
        {
          "output_type": "stream",
          "name": "stdout",
          "text": [
            "/content\n"
          ]
        }
      ]
    },
    {
      "cell_type": "code",
      "metadata": {
        "id": "ewK5LqzbDu7I",
        "colab": {
          "base_uri": "https://localhost:8080/"
        },
        "outputId": "4a17cf6b-5649-436f-a4de-a9c12b206bce"
      },
      "source": [
        "!pwd"
      ],
      "execution_count": 13,
      "outputs": [
        {
          "output_type": "stream",
          "name": "stdout",
          "text": [
            "/root\n"
          ]
        }
      ]
    },
    {
      "cell_type": "code",
      "metadata": {
        "colab": {
          "base_uri": "https://localhost:8080/"
        },
        "id": "pmoBwC5AKtmN",
        "outputId": "0c295bcb-7954-470b-f0c3-0c832a98416f"
      },
      "source": [
        "cd '/content/myfiles'"
      ],
      "execution_count": 15,
      "outputs": [
        {
          "output_type": "stream",
          "name": "stdout",
          "text": [
            "/content/myfiles\n"
          ]
        }
      ]
    },
    {
      "cell_type": "code",
      "metadata": {
        "colab": {
          "base_uri": "https://localhost:8080/"
        },
        "id": "c865-isfM68b",
        "outputId": "901e2ff1-84ba-4ba0-f545-2d4a421b7055"
      },
      "source": [
        "!pwd"
      ],
      "execution_count": 49,
      "outputs": [
        {
          "output_type": "stream",
          "name": "stdout",
          "text": [
            "/content/sample_data\n"
          ]
        }
      ]
    },
    {
      "cell_type": "code",
      "metadata": {
        "colab": {
          "base_uri": "https://localhost:8080/",
          "height": 131
        },
        "id": "nQTlt656M9QP",
        "outputId": "5cec1650-137a-485c-e4a1-fa064a0b5251"
      },
      "source": [
        "cd '/content/drive/MyDrive/Colab Notebooks'\n",
        "# copy the path from the file by right clicking the file and copy the path"
      ],
      "execution_count": 48,
      "outputs": [
        {
          "output_type": "error",
          "ename": "SyntaxError",
          "evalue": "ignored",
          "traceback": [
            "\u001b[0;36m  File \u001b[0;32m\"<ipython-input-48-17c158599b8c>\"\u001b[0;36m, line \u001b[0;32m1\u001b[0m\n\u001b[0;31m    cd '/content/drive/MyDrive/Colab Notebooks'\u001b[0m\n\u001b[0m                                              ^\u001b[0m\n\u001b[0;31mSyntaxError\u001b[0m\u001b[0;31m:\u001b[0m invalid syntax\n"
          ]
        }
      ]
    },
    {
      "cell_type": "code",
      "metadata": {
        "colab": {
          "base_uri": "https://localhost:8080/"
        },
        "id": "8WaDBFGRNSgy",
        "outputId": "5ada5e43-d7d3-4d15-f896-40c04276139a"
      },
      "source": [
        "f=open(\"Binary.ipynb\",'r')\n",
        "lines=f.readlines()\n",
        "# reads all the lines\n",
        "\n",
        "linee=f.readline()\n",
        "# reads only one line\n",
        "\n",
        "\n",
        "\n",
        "for line in lines:\n",
        "  print(line)"
      ],
      "execution_count": 42,
      "outputs": [
        {
          "output_type": "stream",
          "name": "stdout",
          "text": [
            "{\"nbformat\":4,\"nbformat_minor\":0,\"metadata\":{\"colab\":{\"name\":\"Binary.ipynb\",\"provenance\":[],\"authorship_tag\":\"ABX9TyMOSXioMCJAKDil1vbgR2L0\"},\"kernelspec\":{\"name\":\"python3\",\"display_name\":\"Python 3\"}},\"cells\":[{\"cell_type\":\"code\",\"metadata\":{\"colab\":{\"base_uri\":\"https://localhost:8080/\"},\"id\":\"xT3mR56ldG3m\",\"executionInfo\":{\"status\":\"ok\",\"timestamp\":1614338695931,\"user_tz\":-330,\"elapsed\":4663,\"user\":{\"displayName\":\"Naveen Karthik\",\"photoUrl\":\"\",\"userId\":\"17489819349135716726\"}},\"outputId\":\"2b15234e-9e8b-41d3-eb7c-c6c5bedbfd0a\"},\"source\":[\"# class Node():\\r\\n\",\"#   def __int__(self,value):\\r\\n\",\"#     self.value=value\\r\\n\",\"#     self.left=None\\r\\n\",\"#     self.right=None\\r\\n\",\"\\r\\n\",\"\\r\\n\",\"class Node:\\r\\n\",\"    # Creating a node\\r\\n\",\"    def __init__(self, value):\\r\\n\",\"        self.value = value\\r\\n\",\"        self.right = None\\r\\n\",\"        self.left=None    \\r\\n\",\"\\r\\n\",\"class BinaryTree():\\r\\n\",\"  def __init__(self,value):\\r\\n\",\"    self.root=Node(value)\\r\\n\",\"\\r\\n\",\"\\r\\n\",\"# it is recursive function having the base condition of none v  \\r\\n\",\"  def preorder(self,start,traversal):\\r\\n\",\"    # left=>Root=>right\\r\\n\",\"    \\r\\n\",\"    # this is called as the base condition\\r\\n\",\"    if start is None:\\r\\n\",\"      return\\r\\n\",\"    traversal.append(start.value)\\r\\n\",\"    self.preorder(start.left,traversal)  \\r\\n\",\"    self.preorder(start.right,traversal)\\r\\n\",\"\\r\\n\",\"    return traversal\\r\\n\",\"\\r\\n\",\"\\r\\n\",\"  def inorder(self,start,traversal):\\r\\n\",\"    # left=>root=>right\\r\\n\",\"    # this is called as the base condition\\r\\n\",\"    if start is None:\\r\\n\",\"      return\\r\\n\",\"    self.inorder(start.left,traversal)  \\r\\n\",\"    traversal.append(start.value)   \\r\\n\",\"    self.inorder(start.right,traversal)\\r\\n\",\"\\r\\n\",\"    return traversal   \\r\\n\",\"\\r\\n\",\"  def postorder(self,start,traversal):\\r\\n\",\"    # left=>right=>root\\r\\n\",\"    # this is called as the base condition\\r\\n\",\"    if start is None:\\r\\n\",\"      return\\r\\n\",\"    self.postorder(start.left,traversal)     \\r\\n\",\"    self.postorder(start.right,traversal)\\r\\n\",\"    traversal.append(start.value) \\r\\n\",\"    return traversal \\r\\n\",\"\\r\\n\",\"\\r\\n\",\"# there is no need of creating a class here we can also \\r\\n\",\"# do it with root=Node(3) simply\\r\\n\",\"# here what we made is created a tree object of binary class\\r\\n\",\"# and we had created the root for that object\\r\\n\",\"# we can create a root with out any need of a obeject of type \\r\\n\",\"# BinaryTree for the purpose of future use\\r\\n\",\"\\r\\n\",\"\\r\\n\",\"tree = BinaryTree(3)\\r\\n\",\"# we had created a root node\\r\\n\",\"# with the left and right value set as None\\r\\n\",\"\\r\\n\",\"tree.root.left=Node(4)\\r\\n\",\"tree.root.left.left=Node(6)\\r\\n\",\"tree.root.left.right=Node(7)\\r\\n\",\"# tree.root=Node(3)\\r\\n\",\"# tree.root.left=Node(3).left\\r\\n\",\"tree.root.right=Node(5)\\r\\n\",\"tree.root.right.left=Node(8)\\r\\n\",\"tree.root.right.right=Node(9)\\r\\n\",\"\\r\\n\",\"print(tree.preorder(tree.root,[]))\\r\\n\",\"print(tree.inorder(tree.root,[]))\\r\\n\",\"print(tree.postorder(tree.root,[]))\\r\\n\",\"\\r\\n\",\"\\r\\n\",\"\\r\\n\"],\"execution_count\":12,\"outputs\":[{\"output_type\":\"stream\",\"text\":[\"[3, 4, 6, 7, 5, 8, 9]\\n\",\"[6, 4, 7, 3, 8, 5, 9]\\n\",\"[6, 7, 4, 8, 9, 5, 3]\\n\"],\"name\":\"stdout\"}]}]}\n"
          ]
        }
      ]
    },
    {
      "cell_type": "code",
      "metadata": {
        "colab": {
          "base_uri": "https://localhost:8080/"
        },
        "id": "r-PxFJUXVQ7e",
        "outputId": "42ff7307-172f-48dd-fe4a-c06c12a8cff1"
      },
      "source": [
        "cd 'content/MyDrive'"
      ],
      "execution_count": 51,
      "outputs": [
        {
          "output_type": "stream",
          "name": "stdout",
          "text": [
            "[Errno 2] No such file or directory: 'content/MyDrive'\n",
            "/content/sample_data\n"
          ]
        }
      ]
    },
    {
      "cell_type": "code",
      "metadata": {
        "colab": {
          "base_uri": "https://localhost:8080/"
        },
        "id": "DRT3q8DCWw7V",
        "outputId": "a8eca8c5-2a14-49d2-85ef-ed556b728d12"
      },
      "source": [
        "cd ..\n"
      ],
      "execution_count": 52,
      "outputs": [
        {
          "output_type": "stream",
          "name": "stdout",
          "text": [
            "/content\n"
          ]
        }
      ]
    },
    {
      "cell_type": "code",
      "metadata": {
        "colab": {
          "base_uri": "https://localhost:8080/"
        },
        "id": "jDTo5Ly_WyOq",
        "outputId": "9ed42bb9-35e9-413c-a71c-7c6d83366d82"
      },
      "source": [
        "cd ..\n"
      ],
      "execution_count": 58,
      "outputs": [
        {
          "output_type": "stream",
          "name": "stdout",
          "text": [
            "/content\n"
          ]
        }
      ]
    },
    {
      "cell_type": "code",
      "metadata": {
        "colab": {
          "base_uri": "https://localhost:8080/"
        },
        "id": "l_UAtwdiW1hQ",
        "outputId": "dfb5f562-e204-4230-f322-35f345b7e719"
      },
      "source": [
        "cd '/content/drive'"
      ],
      "execution_count": 59,
      "outputs": [
        {
          "output_type": "stream",
          "name": "stdout",
          "text": [
            "/content/drive\n"
          ]
        }
      ]
    },
    {
      "cell_type": "code",
      "metadata": {
        "colab": {
          "base_uri": "https://localhost:8080/"
        },
        "id": "JhGKP-Y1XJQg",
        "outputId": "504dfae9-e03d-426e-e298-d66f3903c487"
      },
      "source": [
        "cd 'MyDrive'"
      ],
      "execution_count": 60,
      "outputs": [
        {
          "output_type": "stream",
          "name": "stdout",
          "text": [
            "/content/drive/MyDrive\n"
          ]
        }
      ]
    },
    {
      "cell_type": "code",
      "metadata": {
        "colab": {
          "base_uri": "https://localhost:8080/"
        },
        "id": "6k14X9GvXLXG",
        "outputId": "f54bb1fe-4a82-460b-b011-be14858ed9ba"
      },
      "source": [
        "cd 'Colab Notebooks'"
      ],
      "execution_count": 61,
      "outputs": [
        {
          "output_type": "stream",
          "name": "stdout",
          "text": [
            "/content/drive/MyDrive/Colab Notebooks\n"
          ]
        }
      ]
    },
    {
      "cell_type": "code",
      "metadata": {
        "colab": {
          "base_uri": "https://localhost:8080/"
        },
        "id": "T1j52SdFV8Q2",
        "outputId": "ba2b377b-7f47-4aaa-b1a7-bedd63964330"
      },
      "source": [
        "with open(\"Binary.ipynb\",'r') as file_obj:\n",
        "  lines=file_obj.readlines()\n",
        "  for line in lines:\n",
        "    print(line)"
      ],
      "execution_count": 65,
      "outputs": [
        {
          "output_type": "stream",
          "name": "stdout",
          "text": [
            "{\"nbformat\":4,\"nbformat_minor\":0,\"metadata\":{\"colab\":{\"name\":\"Binary.ipynb\",\"provenance\":[],\"authorship_tag\":\"ABX9TyMOSXioMCJAKDil1vbgR2L0\"},\"kernelspec\":{\"name\":\"python3\",\"display_name\":\"Python 3\"}},\"cells\":[{\"cell_type\":\"code\",\"metadata\":{\"colab\":{\"base_uri\":\"https://localhost:8080/\"},\"id\":\"xT3mR56ldG3m\",\"executionInfo\":{\"status\":\"ok\",\"timestamp\":1614338695931,\"user_tz\":-330,\"elapsed\":4663,\"user\":{\"displayName\":\"Naveen Karthik\",\"photoUrl\":\"\",\"userId\":\"17489819349135716726\"}},\"outputId\":\"2b15234e-9e8b-41d3-eb7c-c6c5bedbfd0a\"},\"source\":[\"# class Node():\\r\\n\",\"#   def __int__(self,value):\\r\\n\",\"#     self.value=value\\r\\n\",\"#     self.left=None\\r\\n\",\"#     self.right=None\\r\\n\",\"\\r\\n\",\"\\r\\n\",\"class Node:\\r\\n\",\"    # Creating a node\\r\\n\",\"    def __init__(self, value):\\r\\n\",\"        self.value = value\\r\\n\",\"        self.right = None\\r\\n\",\"        self.left=None    \\r\\n\",\"\\r\\n\",\"class BinaryTree():\\r\\n\",\"  def __init__(self,value):\\r\\n\",\"    self.root=Node(value)\\r\\n\",\"\\r\\n\",\"\\r\\n\",\"# it is recursive function having the base condition of none v  \\r\\n\",\"  def preorder(self,start,traversal):\\r\\n\",\"    # left=>Root=>right\\r\\n\",\"    \\r\\n\",\"    # this is called as the base condition\\r\\n\",\"    if start is None:\\r\\n\",\"      return\\r\\n\",\"    traversal.append(start.value)\\r\\n\",\"    self.preorder(start.left,traversal)  \\r\\n\",\"    self.preorder(start.right,traversal)\\r\\n\",\"\\r\\n\",\"    return traversal\\r\\n\",\"\\r\\n\",\"\\r\\n\",\"  def inorder(self,start,traversal):\\r\\n\",\"    # left=>root=>right\\r\\n\",\"    # this is called as the base condition\\r\\n\",\"    if start is None:\\r\\n\",\"      return\\r\\n\",\"    self.inorder(start.left,traversal)  \\r\\n\",\"    traversal.append(start.value)   \\r\\n\",\"    self.inorder(start.right,traversal)\\r\\n\",\"\\r\\n\",\"    return traversal   \\r\\n\",\"\\r\\n\",\"  def postorder(self,start,traversal):\\r\\n\",\"    # left=>right=>root\\r\\n\",\"    # this is called as the base condition\\r\\n\",\"    if start is None:\\r\\n\",\"      return\\r\\n\",\"    self.postorder(start.left,traversal)     \\r\\n\",\"    self.postorder(start.right,traversal)\\r\\n\",\"    traversal.append(start.value) \\r\\n\",\"    return traversal \\r\\n\",\"\\r\\n\",\"\\r\\n\",\"# there is no need of creating a class here we can also \\r\\n\",\"# do it with root=Node(3) simply\\r\\n\",\"# here what we made is created a tree object of binary class\\r\\n\",\"# and we had created the root for that object\\r\\n\",\"# we can create a root with out any need of a obeject of type \\r\\n\",\"# BinaryTree for the purpose of future use\\r\\n\",\"\\r\\n\",\"\\r\\n\",\"tree = BinaryTree(3)\\r\\n\",\"# we had created a root node\\r\\n\",\"# with the left and right value set as None\\r\\n\",\"\\r\\n\",\"tree.root.left=Node(4)\\r\\n\",\"tree.root.left.left=Node(6)\\r\\n\",\"tree.root.left.right=Node(7)\\r\\n\",\"# tree.root=Node(3)\\r\\n\",\"# tree.root.left=Node(3).left\\r\\n\",\"tree.root.right=Node(5)\\r\\n\",\"tree.root.right.left=Node(8)\\r\\n\",\"tree.root.right.right=Node(9)\\r\\n\",\"\\r\\n\",\"print(tree.preorder(tree.root,[]))\\r\\n\",\"print(tree.inorder(tree.root,[]))\\r\\n\",\"print(tree.postorder(tree.root,[]))\\r\\n\",\"\\r\\n\",\"\\r\\n\",\"\\r\\n\"],\"execution_count\":12,\"outputs\":[{\"output_type\":\"stream\",\"text\":[\"[3, 4, 6, 7, 5, 8, 9]\\n\",\"[6, 4, 7, 3, 8, 5, 9]\\n\",\"[6, 7, 4, 8, 9, 5, 3]\\n\"],\"name\":\"stdout\"}]}]}\n"
          ]
        }
      ]
    },
    {
      "cell_type": "markdown",
      "metadata": {
        "id": "yhfYJtqLT3x4"
      },
      "source": [
        "# csv file operations\n"
      ]
    },
    {
      "cell_type": "code",
      "metadata": {
        "colab": {
          "base_uri": "https://localhost:8080/"
        },
        "id": "DonzbqipT-3J",
        "outputId": "cbd3cb39-6ccd-46d9-aff3-c4c48e3fe5cb"
      },
      "source": [
        "cd '/content/sample_data'"
      ],
      "execution_count": 44,
      "outputs": [
        {
          "output_type": "stream",
          "name": "stdout",
          "text": [
            "/content/sample_data\n"
          ]
        }
      ]
    },
    {
      "cell_type": "code",
      "metadata": {
        "colab": {
          "base_uri": "https://localhost:8080/"
        },
        "id": "VCOyuUDTUIe9",
        "outputId": "95f415e5-ec2e-49b2-8eae-faafa6aed6f6"
      },
      "source": [
        "with open('california_housing_test.csv') as file_obj:\n",
        "  lines=file_obj.readlines()\n",
        "  for i in range(10):\n",
        "    print(lines[i])\n",
        " "
      ],
      "execution_count": 50,
      "outputs": [
        {
          "output_type": "stream",
          "name": "stdout",
          "text": [
            "\"longitude\",\"latitude\",\"housing_median_age\",\"total_rooms\",\"total_bedrooms\",\"population\",\"households\",\"median_income\",\"median_house_value\"\n",
            "\n",
            "-122.050000,37.370000,27.000000,3885.000000,661.000000,1537.000000,606.000000,6.608500,344700.000000\n",
            "\n",
            "-118.300000,34.260000,43.000000,1510.000000,310.000000,809.000000,277.000000,3.599000,176500.000000\n",
            "\n",
            "-117.810000,33.780000,27.000000,3589.000000,507.000000,1484.000000,495.000000,5.793400,270500.000000\n",
            "\n",
            "-118.360000,33.820000,28.000000,67.000000,15.000000,49.000000,11.000000,6.135900,330000.000000\n",
            "\n",
            "-119.670000,36.330000,19.000000,1241.000000,244.000000,850.000000,237.000000,2.937500,81700.000000\n",
            "\n",
            "-119.560000,36.510000,37.000000,1018.000000,213.000000,663.000000,204.000000,1.663500,67000.000000\n",
            "\n",
            "-121.430000,38.630000,43.000000,1009.000000,225.000000,604.000000,218.000000,1.664100,67000.000000\n",
            "\n",
            "-120.650000,35.480000,19.000000,2310.000000,471.000000,1341.000000,441.000000,3.225000,166900.000000\n",
            "\n",
            "-122.840000,38.400000,15.000000,3080.000000,617.000000,1446.000000,599.000000,3.669600,194400.000000\n",
            "\n"
          ]
        }
      ]
    }
  ]
}